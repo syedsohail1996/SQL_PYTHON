{
  "nbformat": 4,
  "nbformat_minor": 0,
  "metadata": {
    "colab": {
      "provenance": []
    },
    "kernelspec": {
      "name": "python3",
      "display_name": "Python 3"
    },
    "language_info": {
      "name": "python"
    }
  },
  "cells": [
    {
      "cell_type": "markdown",
      "source": [
        "WAP to prompt user to enter their name, age and amount to be paid by them.\n",
        "\n",
        "Print the receipt as below when age<55:"
      ],
      "metadata": {
        "id": "_2y7YTlTgdtC"
      }
    },
    {
      "cell_type": "code",
      "execution_count": null,
      "metadata": {
        "colab": {
          "base_uri": "https://localhost:8080/"
        },
        "id": "oHLMnotjq0dT",
        "outputId": "2cb2840e-00cb-4552-d979-6ec3761d5f53"
      },
      "outputs": [
        {
          "name": "stdout",
          "output_type": "stream",
          "text": [
            "Enter the name :s\n"
          ]
        }
      ],
      "source": [
        "name=input(\"Enter the name :\")\n",
        "age =int(input(\"Enter the age:\" ))\n",
        "amount =input(\"Enter amount:\")\n",
        "if age >55 :\n",
        "  amount*=0.9\n",
        "print(f\"{name} has to pay {amount}\")"
      ]
    }
  ]
}