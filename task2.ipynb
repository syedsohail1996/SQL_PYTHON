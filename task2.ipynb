{
  "nbformat": 4,
  "nbformat_minor": 0,
  "metadata": {
    "colab": {
      "provenance": []
    },
    "kernelspec": {
      "name": "python3",
      "display_name": "Python 3"
    },
    "language_info": {
      "name": "python"
    }
  },
  "cells": [
    {
      "cell_type": "code",
      "execution_count": 3,
      "metadata": {
        "colab": {
          "base_uri": "https://localhost:8080/"
        },
        "id": "TlrZ6WQATYH1",
        "outputId": "0e539f72-8336-42ba-b8e7-454185470f7c"
      },
      "outputs": [
        {
          "output_type": "stream",
          "name": "stdout",
          "text": [
            "Quotient:  3\n",
            "Remainder 1\n"
          ]
        }
      ],
      "source": [
        "\n",
        "def find(a, s):\n",
        "\t\n",
        "\n",
        "\tq = a//s\n",
        "\tprint(\"Quotient: \", q)\n",
        "\t\n",
        "\n",
        "\tr = a%s\n",
        "\tprint(\"Remainder\", r)\n",
        "\t\n",
        "\n",
        "find(10, 3)\n",
        "\n"
      ]
    }
  ]
}