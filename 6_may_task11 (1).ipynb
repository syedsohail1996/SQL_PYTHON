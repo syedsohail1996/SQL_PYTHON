{
  "nbformat": 4,
  "nbformat_minor": 0,
  "metadata": {
    "colab": {
      "provenance": []
    },
    "kernelspec": {
      "name": "python3",
      "display_name": "Python 3"
    },
    "language_info": {
      "name": "python"
    }
  },
  "cells": [
    {
      "cell_type": "markdown",
      "source": [
        "Write a Python program to filter the given list of ages and create a new list that contains only those ages that are greater than 60 or less than 30. The given list of ages is age = [25, 65, 82, 41, 33]. Also mention how many elements are in the final list."
      ],
      "metadata": {
        "id": "LBYK6TfW1Btr"
      }
    },
    {
      "cell_type": "code",
      "execution_count": 3,
      "metadata": {
        "colab": {
          "base_uri": "https://localhost:8080/"
        },
        "id": "3pYCwemJkdWG",
        "outputId": "8f30b2d3-e0d6-4815-c492-d584071b9876"
      },
      "outputs": [
        {
          "output_type": "stream",
          "name": "stdout",
          "text": [
            "[11, 13, 15, 17]\n"
          ]
        }
      ],
      "source": [
        "ages = [25, 65, 82, 41, 33]\n",
        "\n",
        "result = list(filter(lambda x: x < 30 or x > 60, ages))\n",
        "\n",
        "print(\"Filtered list:\", result)\n",
        "print(\"Number of elements in the final list:\", len(result))\n"
      ]
    }
  ]
}