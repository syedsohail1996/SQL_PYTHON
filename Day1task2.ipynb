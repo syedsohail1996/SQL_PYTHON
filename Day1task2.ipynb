{
  "nbformat": 4,
  "nbformat_minor": 0,
  "metadata": {
    "colab": {
      "provenance": []
    },
    "kernelspec": {
      "name": "python3",
      "display_name": "Python 3"
    },
    "language_info": {
      "name": "python"
    }
  },
  "cells": [
    {
      "cell_type": "markdown",
      "source": [
        "**MAXIMUM**"
      ],
      "metadata": {
        "id": "kcMlyGhr5a_o"
      }
    },
    {
      "cell_type": "code",
      "execution_count": 2,
      "metadata": {
        "colab": {
          "base_uri": "https://localhost:8080/"
        },
        "id": "f2MOeGeZ4kyc",
        "outputId": "32c0b51a-9cd6-44b0-f799-b62beed1ce41"
      },
      "outputs": [
        {
          "output_type": "stream",
          "name": "stdout",
          "text": [
            "97\n"
          ]
        }
      ],
      "source": [
        "list1=[1,2,9,88,97,49,63]\n",
        "print(max(list1))"
      ]
    },
    {
      "cell_type": "markdown",
      "source": [
        "**MINIMUM**"
      ],
      "metadata": {
        "id": "O15r7wYW5kHX"
      }
    },
    {
      "cell_type": "code",
      "source": [
        "list1=[1,2,9,88,97,49,63]\n",
        "print(min(list1))"
      ],
      "metadata": {
        "colab": {
          "base_uri": "https://localhost:8080/"
        },
        "id": "IQl8ljo_5rNb",
        "outputId": "a6e86c7e-ca4d-44e0-f682-669bfb0b264e"
      },
      "execution_count": 3,
      "outputs": [
        {
          "output_type": "stream",
          "name": "stdout",
          "text": [
            "1\n"
          ]
        }
      ]
    },
    {
      "cell_type": "markdown",
      "source": [
        "**Insert value 21 at 5th index**"
      ],
      "metadata": {
        "id": "SCy6q6--50xw"
      }
    },
    {
      "cell_type": "code",
      "source": [
        "list1=[1,2,9,88,97,49,63]\n",
        "list1.insert(5, 21)\n",
        "print(list1)"
      ],
      "metadata": {
        "colab": {
          "base_uri": "https://localhost:8080/"
        },
        "id": "rvFUymNP57BM",
        "outputId": "ca2dd4c4-e47c-4723-a383-dc55b525c786"
      },
      "execution_count": 4,
      "outputs": [
        {
          "output_type": "stream",
          "name": "stdout",
          "text": [
            "[1, 2, 9, 88, 97, 21, 49, 63]\n"
          ]
        }
      ]
    },
    {
      "cell_type": "markdown",
      "source": [
        "**No. of occurance of element at index 5**"
      ],
      "metadata": {
        "id": "C3wmgi2h-tYD"
      }
    },
    {
      "cell_type": "code",
      "source": [
        "from collections import Counter\n",
        " \n",
        "# declaring the list\n",
        "l = [1, 1, 2, 2, 3, 3, 4, 4, 5, 5,5,5,5,5]\n",
        " \n",
        "# driver program\n",
        "x = 5\n",
        "d = Counter(l)\n",
        "print('{} has occurred {} times'.format(x, d[x]))"
      ],
      "metadata": {
        "colab": {
          "base_uri": "https://localhost:8080/"
        },
        "id": "pl5IcreFIoxK",
        "outputId": "02d88e62-d855-424e-af0b-9466c5016635"
      },
      "execution_count": 2,
      "outputs": [
        {
          "output_type": "stream",
          "name": "stdout",
          "text": [
            "5 has occurred 6 times\n"
          ]
        }
      ]
    },
    {
      "cell_type": "markdown",
      "source": [
        "**Sum of all the numbers in the list**"
      ],
      "metadata": {
        "id": "h2JpkD2HL487"
      }
    },
    {
      "cell_type": "code",
      "source": [
        "list1=[1,2,22,65,98,44,25,64,6]\n",
        "total=sum(list1)\n",
        "print(total)"
      ],
      "metadata": {
        "colab": {
          "base_uri": "https://localhost:8080/"
        },
        "id": "xahSTca1L_XQ",
        "outputId": "98e2ac82-c708-4e9d-b7cf-c91c74e3358d"
      },
      "execution_count": 4,
      "outputs": [
        {
          "output_type": "stream",
          "name": "stdout",
          "text": [
            "327\n"
          ]
        }
      ]
    },
    {
      "cell_type": "markdown",
      "source": [
        "**Remove the 6th element from the list**"
      ],
      "metadata": {
        "id": "hS8bCUZiM8lc"
      }
    },
    {
      "cell_type": "code",
      "source": [
        "list1 = [5, 6, 3, 7, 8, 1, 2, 10]\n",
        " \n",
        "list1.pop(6)\n",
        "print(list1)"
      ],
      "metadata": {
        "colab": {
          "base_uri": "https://localhost:8080/"
        },
        "id": "eIilKNf1Nx1Y",
        "outputId": "f52181e6-1922-49da-cc0e-464d67d06072"
      },
      "execution_count": 17,
      "outputs": [
        {
          "output_type": "stream",
          "name": "stdout",
          "text": [
            "[5, 6, 3, 7, 8, 1, 10]\n"
          ]
        }
      ]
    },
    {
      "cell_type": "markdown",
      "source": [
        "**Add the following values to the end of list [22,31,45,67,89]**"
      ],
      "metadata": {
        "id": "o7J4kxUdYdRd"
      }
    },
    {
      "cell_type": "code",
      "source": [
        "#Add the following values to the end of list [22,31,45,67,89]\n",
        "list1=[5, 6, 3, 7, 8, 1, 2, 10]\n",
        "list1.append([22,31,45,67,89])\n",
        "print(list1)"
      ],
      "metadata": {
        "colab": {
          "base_uri": "https://localhost:8080/"
        },
        "id": "X_n2SWiHYi9q",
        "outputId": "a329a56a-5415-4cb0-9886-f47ba825627e"
      },
      "execution_count": 20,
      "outputs": [
        {
          "output_type": "stream",
          "name": "stdout",
          "text": [
            "[5, 6, 3, 7, 8, 1, 2, 10, [22, 31, 45, 67, 89]]\n"
          ]
        }
      ]
    },
    {
      "cell_type": "code",
      "source": [
        "thislist = [5, 6, 3, 7, 8, 1, 2, 10]\n",
        "thistuple = (22, 31, 45, 67, 89)\n",
        "\n",
        "thislist.extend(thistuple)\n",
        "\n",
        "print(thislist) \n"
      ],
      "metadata": {
        "colab": {
          "base_uri": "https://localhost:8080/"
        },
        "id": "2pSCna4OaRvY",
        "outputId": "8f907112-0e48-4090-efad-4481e05db56b"
      },
      "execution_count": 21,
      "outputs": [
        {
          "output_type": "stream",
          "name": "stdout",
          "text": [
            "[5, 6, 3, 7, 8, 1, 2, 10, 22, 31, 45, 67, 89]\n"
          ]
        }
      ]
    },
    {
      "cell_type": "markdown",
      "source": [
        "**pop the last element and print the square of it**"
      ],
      "metadata": {
        "id": "nl3cRFyqwc6F"
      }
    },
    {
      "cell_type": "code",
      "source": [
        "list1 = [5, 6, 3, 7, 8, 1, 2, 10]\n",
        "sqr_of_num=list1.pop(7)\n",
        "square=sqr_of_num*sqr_of_num\n",
        "print(square)"
      ],
      "metadata": {
        "colab": {
          "base_uri": "https://localhost:8080/"
        },
        "id": "UjKrsVtOwlyp",
        "outputId": "459fce8e-3dd1-45dd-a31e-35f44f94a39d"
      },
      "execution_count": 2,
      "outputs": [
        {
          "output_type": "stream",
          "name": "stdout",
          "text": [
            "100\n"
          ]
        }
      ]
    },
    {
      "cell_type": "markdown",
      "source": [
        "**Print the 4th last value**"
      ],
      "metadata": {
        "id": "0-nFhLjl0lye"
      }
    },
    {
      "cell_type": "code",
      "source": [
        "list1 = [5, 6, 3, 7, 8, 1, 2, 10]\n",
        "list1[-4]"
      ],
      "metadata": {
        "colab": {
          "base_uri": "https://localhost:8080/"
        },
        "id": "evNMTB_Y0pvS",
        "outputId": "173054f5-2032-4fce-f7d0-40b9e0c8d0ce"
      },
      "execution_count": 4,
      "outputs": [
        {
          "output_type": "execute_result",
          "data": {
            "text/plain": [
              "8"
            ]
          },
          "metadata": {},
          "execution_count": 4
        }
      ]
    },
    {
      "cell_type": "markdown",
      "source": [
        "**Print the values in between 3rd and 6th number**"
      ],
      "metadata": {
        "id": "9yQcIBh11ZqW"
      }
    },
    {
      "cell_type": "code",
      "source": [
        "list1 = [5, 6, 3, 7, 8, 1, 2, 10]\n",
        "print (list1[6  -3])"
      ],
      "metadata": {
        "colab": {
          "base_uri": "https://localhost:8080/"
        },
        "id": "aDK8DqzcZJ2e",
        "outputId": "f7728c00-6a47-47ab-a1df-ca0359631a37"
      },
      "execution_count": 7,
      "outputs": [
        {
          "output_type": "stream",
          "name": "stdout",
          "text": [
            "7\n"
          ]
        }
      ]
    }
  ]
}