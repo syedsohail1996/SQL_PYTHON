{
  "nbformat": 4,
  "nbformat_minor": 0,
  "metadata": {
    "colab": {
      "provenance": []
    },
    "kernelspec": {
      "name": "python3",
      "display_name": "Python 3"
    },
    "language_info": {
      "name": "python"
    }
  },
  "cells": [
    {
      "cell_type": "markdown",
      "source": [
        "Create a dictionary containing gender and age information. It should be:\n",
        "\n",
        "gender = m, age = 20\n",
        "\n",
        "gender = f, age = 21\n",
        "\n",
        "gender = m, age = 22"
      ],
      "metadata": {
        "id": "LBYK6TfW1Btr"
      }
    },
    {
      "cell_type": "code",
      "execution_count": 6,
      "metadata": {
        "colab": {
          "base_uri": "https://localhost:8080/"
        },
        "id": "3pYCwemJkdWG",
        "outputId": "c33d0d6b-7694-49fd-a3b7-0c2d667b108e"
      },
      "outputs": [
        {
          "output_type": "stream",
          "name": "stdout",
          "text": [
            "m\n",
            "26\n"
          ]
        }
      ],
      "source": [
        "information = {'person1': {'gender': 'm', 'age': 26},\n",
        "               'person2': {'gender': 'f', 'age': 21},\n",
        "               'person3': {'gender': 'm', 'age': 22}}\n",
        "print(information['person1']['gender']) \n",
        "print(information['person1']['age']) \n"
      ]
    }
  ]
}