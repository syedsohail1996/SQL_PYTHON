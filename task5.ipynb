{
  "nbformat": 4,
  "nbformat_minor": 0,
  "metadata": {
    "colab": {
      "provenance": []
    },
    "kernelspec": {
      "name": "python3",
      "display_name": "Python 3"
    },
    "language_info": {
      "name": "python"
    }
  },
  "cells": [
    {
      "cell_type": "markdown",
      "source": [
        "Enter your name: Carolina\n",
        "Enter your age in years: 35\n",
        "Enter your gender: Female\n",
        "Enter your occupation: Teacher\n",
        "Enter your weight(in kg): 65\n",
        "Enter your height (in cms): 155\n",
        "Carolina is 35 years old Female Teacher"
      ],
      "metadata": {
        "id": "ULCjt2PmZXKj"
      }
    },
    {
      "cell_type": "code",
      "execution_count": 1,
      "metadata": {
        "colab": {
          "base_uri": "https://localhost:8080/"
        },
        "id": "87mJMcMYYe_L",
        "outputId": "30e3d6bf-05e8-43a0-8831-384e8a84b56f"
      },
      "outputs": [
        {
          "output_type": "stream",
          "name": "stdout",
          "text": [
            "Enter your name: SYED\n",
            "Enter your age in years: 25\n",
            "Enter your gender: male\n",
            "Enter your occupation:dm\n",
            "Enter your weight(in kg):65\n",
            "Enter your height (in cms)172\n",
            "SYED is 25 years old male, dm\n"
          ]
        }
      ],
      "source": [
        "name=input(\"Enter your name: \")\n",
        "age=int(input(\"Enter your age in years: \"))\n",
        "gender=input(\"Enter your gender: \")\n",
        "occ=input(\"Enter your occupation:\")\n",
        "wt=float(input(\"Enter your weight(in kg):\"))\n",
        "ht=float(input(\"Enter your height (in cms)\"))\n",
        "print('{} is {} years old {}, {}'.format(name,age,gender,occ))\n",
        "#print(name, 'is', age,'years old')\n",
        "#print(f\"{name} is {age} years old {gender} {occ}.\")\n",
        "#BMI=BMI = wt (kg) / [ht (m)]2\n",
        "#print "
      ]
    },
    {
      "cell_type": "code",
      "source": [
        "#WAP to prompt user to enter their name, age and amount to be paid by them.\n",
        "\n"
      ],
      "metadata": {
        "id": "TuJUh5sNbfiQ"
      },
      "execution_count": null,
      "outputs": []
    }
  ]
}