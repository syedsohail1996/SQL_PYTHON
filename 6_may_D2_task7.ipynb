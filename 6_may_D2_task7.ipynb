{
  "nbformat": 4,
  "nbformat_minor": 0,
  "metadata": {
    "colab": {
      "provenance": []
    },
    "kernelspec": {
      "name": "python3",
      "display_name": "Python 3"
    },
    "language_info": {
      "name": "python"
    }
  },
  "cells": [
    {
      "cell_type": "markdown",
      "source": [
        "Create a mulitdimensional array (3 rows, 4 columns) of a constant value, here ten. Replace zero with full.\n",
        "\n",
        "Note: Constant value can be any number"
      ],
      "metadata": {
        "id": "nvT3ewcD_-B_"
      }
    },
    {
      "cell_type": "code",
      "execution_count": 6,
      "metadata": {
        "colab": {
          "base_uri": "https://localhost:8080/"
        },
        "id": "3pYCwemJkdWG",
        "outputId": "47a2655b-d929-4722-e162-187d48609641"
      },
      "outputs": [
        {
          "output_type": "stream",
          "name": "stdout",
          "text": [
            "<class 'numpy.ndarray'>\n"
          ]
        }
      ],
      "source": [
        "import numpy as np\n",
        "\n",
        "# Create a 3x4 array of tens\n",
        "arr = np.full((3,4), 10)\n",
        "\n",
        "# Replace zeros with full\n",
        "arr[arr == 0] = 'full'\n",
        "\n",
        "# Print the array\n",
        "print(arr)\n"
      ]
    }
  ]
}