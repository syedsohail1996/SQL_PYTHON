{
  "nbformat": 4,
  "nbformat_minor": 0,
  "metadata": {
    "colab": {
      "provenance": []
    },
    "kernelspec": {
      "name": "python3",
      "display_name": "Python 3"
    },
    "language_info": {
      "name": "python"
    }
  },
  "cells": [
    {
      "cell_type": "markdown",
      "source": [
        "**Q1: You are working in a bank, and you have been given two lists of the employees who worked in 2021. Employees’ names in list 1 are Ramesh, Suresh, Mahesh, Ali, Jacob, and Saritha. List 2 contains the names of Ali, Mukesh, Mahesh, Jacob, Sai, and Sarita. Please write a program that helps to identify people who are common in both lists. Please do not use any in-built function.**\n",
        "\n"
      ],
      "metadata": {
        "id": "psuigozXaPR5"
      }
    },
    {
      "cell_type": "code",
      "execution_count": 1,
      "metadata": {
        "colab": {
          "base_uri": "https://localhost:8080/"
        },
        "id": "k4KlnJpqXnxf",
        "outputId": "2ec2ff6d-0299-4617-d846-c3df0b09cf57"
      },
      "outputs": [
        {
          "output_type": "stream",
          "name": "stdout",
          "text": [
            "{'Ali', 'Mahesh', 'Jacob'}\n"
          ]
        }
      ],
      "source": [
        "def common_member(a, b):\n",
        "    a_set = set(a)\n",
        "    b_set = set(b)\n",
        " \n",
        "    if (a_set & b_set):\n",
        "        print(a_set & b_set)\n",
        "    else:\n",
        "        print(\"No common elements\")\n",
        "          \n",
        "  \n",
        "a = [\"Ramesh\", \"Suresh\", \"Mahesh\", \"Ali\", \"Jacob\",\"Saritha\"]\n",
        "b = [\"Ali\", \"Mukesh\", \"Mahesh\", \"Jacob\", \"Sai\", \"Sarita\"]\n",
        "common_member(a, b)"
      ]
    },
    {
      "cell_type": "markdown",
      "source": [
        "**Q2: While entering data, someone entered a few names as a common string “Ramesh Suresh Mohit”. Please write a program which separates all the names and converts them into a list. Once converted into a list, please write a program that adds their age.**"
      ],
      "metadata": {
        "id": "96Z4kwvwZ_Gf"
      }
    },
    {
      "cell_type": "code",
      "source": [
        "c_name = \"Ramesh Suresh Mohit\"\n",
        "name = c_name.split(\" \")\n",
        "print(name)\n",
        "age = [25,22,26]\n",
        "data = zip(name,age)\n",
        "for i in zip(name,age):\n",
        "  print(i)"
      ],
      "metadata": {
        "colab": {
          "base_uri": "https://localhost:8080/"
        },
        "id": "cYaAUfxkZxsF",
        "outputId": "9ff3dc51-efab-4542-9b82-6be59cbd5608"
      },
      "execution_count": 2,
      "outputs": [
        {
          "output_type": "stream",
          "name": "stdout",
          "text": [
            "['Ramesh', 'Suresh', 'Mohit']\n",
            "('Ramesh', 25)\n",
            "('Suresh', 22)\n",
            "('Mohit', 26)\n"
          ]
        }
      ]
    },
    {
      "cell_type": "markdown",
      "source": [
        "**You are working in a medical store. A patient came to your medical store and asked to buy 2 strips of paracetamol, 3 strips of azithromycin, and 5 strips of Vitamin C. One strip of paracetamol costs Rs 35, one strip of azithromycin costs Rs 49, and one strip of vitamin c costs Rs. 33. Patient gave you Rs 2000. Please tell us what is the total cost of each medicine, the total cost of all medicine, and how much money you refunded to the patient.**"
      ],
      "metadata": {
        "id": "B3-SFQTPa4Ms"
      }
    },
    {
      "cell_type": "code",
      "source": [
        "\n",
        "paracetamol = float(35 * 2)\n",
        "print(\"Total cost of paracetamol :\",paracetamol)\n",
        "azithromycin = float(49 * 3)\n",
        "print(\"Total cost of azithromynic :\",azithromycin)\n",
        "vitamin_C = float(33 * 5)\n",
        "print(\"Total cost of vitamin_c :\",vitamin_C)\n",
        "patient_gave = 2000\n",
        "total = paracetamol + azithromycin + vitamin_C\n",
        "print(\" Total cost of all medicines : \" , total , \"/-\")\n",
        "refund_amount = patient_gave - total\n",
        "print(\"Change for the given amount : \" , refund_amount , \"/-\")"
      ],
      "metadata": {
        "colab": {
          "base_uri": "https://localhost:8080/"
        },
        "id": "GKP4BCGOa3cj",
        "outputId": "9e8456e6-ab2a-4805-b22b-1653148a8bce"
      },
      "execution_count": 3,
      "outputs": [
        {
          "output_type": "stream",
          "name": "stdout",
          "text": [
            "Total cost of paracetamol : 70.0\n",
            "Total cost of azithromynic : 147.0\n",
            "Total cost of vitamin_c : 165.0\n",
            " Total cost of all medicines :  382.0 /-\n",
            "Change for the given amount :  1618.0 /-\n"
          ]
        }
      ]
    },
    {
      "cell_type": "markdown",
      "source": [
        "**Accept a sentence as input and find the number of vowels in it. Assume that the sentence has no punctuation marks. For example, I am learning python contains 6 vowels. This function should be applicable for all other different sentences.**"
      ],
      "metadata": {
        "id": "lvg0jOcpcHC1"
      }
    },
    {
      "cell_type": "code",
      "source": [
        "sentence = input(\"Enter a sentence: \")\n",
        "vowels = \"aeiouAEIOU\"\n",
        "count = 0\n",
        "for letter in sentence:\n",
        "    if letter.lower() in vowels:\n",
        "        count += 1\n",
        "print(\"The number of vowels in the sentence is:\", count)\n",
        "\n",
        "\n"
      ],
      "metadata": {
        "colab": {
          "base_uri": "https://localhost:8080/"
        },
        "id": "Tyk8dLFebtw-",
        "outputId": "aa542e99-9a89-4d14-94ea-fe918608d0a3"
      },
      "execution_count": 5,
      "outputs": [
        {
          "output_type": "stream",
          "name": "stdout",
          "text": [
            "Enter a sentence: THIS IS SOHAIL AHAMED HERE \n",
            "The number of vowels in the sentence is: 10\n"
          ]
        }
      ]
    },
    {
      "cell_type": "markdown",
      "source": [
        "**Q5: You have been appointed by the election commission to create a website. Your first task is to work on a program which tells candidates if they are eligible for voting or not. If they are eligible, your output should be ‘Congrats! You are eligible’; otherwise, it should tell that you have to return after X number of years. The eligibility criteria for voting is 18 years.**"
      ],
      "metadata": {
        "id": "g14pK8HncUVw"
      }
    },
    {
      "cell_type": "code",
      "source": [
        "age = int(input(\"Enter you age: \"))\n",
        "\n",
        "if age >= 18:\n",
        "    print(\"'CONGRATS!'You are eligible\")\n",
        "else:\n",
        "    print(18-age,\"Years After You are  eligible to vote\")"
      ],
      "metadata": {
        "colab": {
          "base_uri": "https://localhost:8080/"
        },
        "id": "03KdwHr0cY-G",
        "outputId": "0858a429-7e59-48a7-cff8-eeebdc192ca5"
      },
      "execution_count": 15,
      "outputs": [
        {
          "output_type": "stream",
          "name": "stdout",
          "text": [
            "Enter you age: 12\n",
            "6 Years After You are  eligible to vote\n"
          ]
        }
      ]
    },
    {
      "cell_type": "markdown",
      "source": [
        "**Q6: Given a list of integers, find the cumulative sum of the elements of the list and store them in another list.**"
      ],
      "metadata": {
        "id": "kmE08msLhl6f"
      }
    },
    {
      "cell_type": "code",
      "source": [
        "A = [1, 2, 3, 4, 5]\n",
        "new_list=[]\n",
        "count=0\n",
        "for i in range(0,len(A)):\n",
        "  \n",
        "\tcount+=A[i]\n",
        "\tnew_list.append(count)\n",
        "\t\n",
        "print(new_list)\n"
      ],
      "metadata": {
        "colab": {
          "base_uri": "https://localhost:8080/"
        },
        "id": "8pKvpEnuhyM4",
        "outputId": "90df0a14-b09a-4d51-c312-dd8c75acf713"
      },
      "execution_count": 20,
      "outputs": [
        {
          "output_type": "stream",
          "name": "stdout",
          "text": [
            "[1, 3, 6, 10, 15]\n"
          ]
        }
      ]
    }
  ]
}