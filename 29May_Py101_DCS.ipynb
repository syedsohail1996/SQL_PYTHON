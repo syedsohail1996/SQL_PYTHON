{
  "nbformat": 4,
  "nbformat_minor": 0,
  "metadata": {
    "colab": {
      "provenance": []
    },
    "kernelspec": {
      "name": "python3",
      "display_name": "Python 3"
    },
    "language_info": {
      "name": "python"
    }
  },
  "cells": [
    {
      "cell_type": "code",
      "execution_count": null,
      "metadata": {
        "id": "RNRyjwqBrraW"
      },
      "outputs": [],
      "source": [
        "l1=[10,20,30]\n",
        "t1=tuple(l1)\n",
        "print(t1, l1)\n",
        "print(type(t1), t2)\n",
        "print(\"hello\")"
      ]
    },
    {
      "cell_type": "code",
      "source": [
        "s1=input('Enter string:')\n",
        "len_s1=len(s1)\n",
        "m_index=int(len_s1/2)\n",
        "char_middle=s1[m_index]\n",
        "\n",
        "print(m_index, char_middle)\n",
        "\n",
        "if char_middle in 'AEIOUaeiou':\n",
        "    print(\"Yes, middle character is a vowel\")\n",
        "else:\n",
        "    print(\"Middle character is a consonant\")"
      ],
      "metadata": {
        "id": "0SD-rAecvXOE"
      },
      "execution_count": null,
      "outputs": []
    },
    {
      "cell_type": "markdown",
      "source": [
        "-- Mutable-- Lists\n",
        "-- Immutable-- Tuples-- once create cannot be modified\n",
        "\n",
        "\n",
        "Write a Python function that takes a sorted list of numbers and a target number as input and returns the index of the target number in the list if it is present or -1 if it is not present. Implement the binary search algorithm to accomplish this.\n"
      ],
      "metadata": {
        "id": "45Xk8nRutPiG"
      }
    },
    {
      "cell_type": "code",
      "source": [
        "l1=[10,20,30,40,50,60]\n",
        "ns=60\n",
        "low_index=0\n",
        "high_index=len(l1)-1\n",
        "mid_index=int((low_index+high_index)/2)\n",
        "\n",
        "\n",
        "while ns!=l1[mid_index]:\n",
        "    print(low_index, high_index)\n",
        "    if ns<l1[mid_index]:\n",
        "        high_index=mid_index-1\n",
        "    else:\n",
        "        low_index=mid_index+1\n",
        "\n",
        "    mid_index=int((low_index+high_index)/2)\n",
        "\n",
        "print(mid_index)"
      ],
      "metadata": {
        "colab": {
          "base_uri": "https://localhost:8080/"
        },
        "id": "O9H382QtwgJ8",
        "outputId": "40663711-91a1-42ce-92b6-871d31ebba0f"
      },
      "execution_count": 26,
      "outputs": [
        {
          "output_type": "stream",
          "name": "stdout",
          "text": [
            "0 5\n",
            "3 5\n",
            "5\n"
          ]
        }
      ]
    },
    {
      "cell_type": "markdown",
      "source": [
        "Given a array of N strings, find the longest common prefix among all strings present in the array\n",
        "\n",
        "please explain above question\n",
        "\n"
      ],
      "metadata": {
        "id": "gvPlcKOPz9Ai"
      }
    },
    {
      "cell_type": "code",
      "source": [
        "def sum(a,b):\n",
        "    print(a+b)\n",
        "\n",
        "a=sum(12,10)\n",
        "print(a)"
      ],
      "metadata": {
        "colab": {
          "base_uri": "https://localhost:8080/"
        },
        "id": "A38aP4Ax0YWz",
        "outputId": "20d319ff-c881-401d-8ce4-21da94f710b0"
      },
      "execution_count": 32,
      "outputs": [
        {
          "output_type": "stream",
          "name": "stdout",
          "text": [
            "22\n",
            "None\n"
          ]
        }
      ]
    },
    {
      "cell_type": "code",
      "source": [
        "# WAP the year is leap year or not\n",
        "\n",
        "year=2300\n",
        "\n",
        "if year%4==0:\n",
        "    if year%100==0:\n",
        "        if year%400==0:\n",
        "            print('Leap')\n",
        "        else:\n",
        "            print(\"Not Leap\")\n",
        "    else:\n",
        "        print('Leap year')\n",
        "else:\n",
        "    print('Not a leap year')\n",
        "\n",
        "\n"
      ],
      "metadata": {
        "colab": {
          "base_uri": "https://localhost:8080/"
        },
        "id": "jlLMwj7-1sgE",
        "outputId": "f0beb18a-527f-44ca-ce81-f4604d4805fa"
      },
      "execution_count": 36,
      "outputs": [
        {
          "output_type": "stream",
          "name": "stdout",
          "text": [
            "Not Leap\n"
          ]
        }
      ]
    },
    {
      "cell_type": "code",
      "source": [
        "d1={\"E01\":'jack',\"E02\":'John',\"E03\":'kate', 'E01':'Sunny'}\n",
        "print(d1)"
      ],
      "metadata": {
        "colab": {
          "base_uri": "https://localhost:8080/"
        },
        "id": "9Us-Q30O3ucu",
        "outputId": "e4fd5592-8fef-4254-e0a6-17891e0856d9"
      },
      "execution_count": 40,
      "outputs": [
        {
          "output_type": "stream",
          "name": "stdout",
          "text": [
            "{'E01': 'Sunny', 'E02': 'John', 'E03': 'kate'}\n"
          ]
        }
      ]
    },
    {
      "cell_type": "code",
      "source": [
        "i = [10, 11, 12, 56,13]  \n",
        "\n",
        "print(i[-2])\n"
      ],
      "metadata": {
        "colab": {
          "base_uri": "https://localhost:8080/"
        },
        "id": "nj747wHQ4k2f",
        "outputId": "40266816-d804-4a75-9c29-bfc67c1e6662"
      },
      "execution_count": 45,
      "outputs": [
        {
          "output_type": "stream",
          "name": "stdout",
          "text": [
            "56\n"
          ]
        }
      ]
    },
    {
      "cell_type": "markdown",
      "source": [
        "create a function that takes two numbers as  arguments (number, length) and returns a list of multiples of num until the list length reaches length ,,,sample input 7,5\n",
        "7, 5\n",
        "7,14,21,28,35"
      ],
      "metadata": {
        "id": "PH5qs2XZ5dLW"
      }
    },
    {
      "cell_type": "code",
      "source": [
        "def multiples(a,b):\n",
        "    l1=[]\n",
        "\n",
        "    for i in range(b+1):\n",
        "        l1.append(a*i)\n",
        "    return l1\n",
        "\n",
        "num=int(input())\n",
        "length=int(input())\n",
        "list1=multiples(num, length)\n",
        "print(list1)\n"
      ],
      "metadata": {
        "colab": {
          "base_uri": "https://localhost:8080/"
        },
        "id": "7m5OlfPV5rQG",
        "outputId": "d7d2262e-e0cb-4dff-c02a-332cbe98f198"
      },
      "execution_count": 70,
      "outputs": [
        {
          "output_type": "stream",
          "name": "stdout",
          "text": [
            "4\n",
            "9\n",
            "[0, 4, 8, 12, 16, 20, 24, 28, 32, 36]\n"
          ]
        }
      ]
    },
    {
      "cell_type": "code",
      "source": [
        "# stop taking input when user enters -1/'STOP'\n",
        "l1=[]\n",
        "i=input('Enter ur data:')\n",
        "\n",
        "while i!='STOP':\n",
        "    l1.append(int(i))\n",
        "    i=input('Enter ur data:')\n",
        "\n",
        "print(l1)\n"
      ],
      "metadata": {
        "colab": {
          "base_uri": "https://localhost:8080/"
        },
        "id": "uvHUUumx6ctL",
        "outputId": "3048632e-c2c7-4dd1-b2ec-88e7528f58da"
      },
      "execution_count": 50,
      "outputs": [
        {
          "output_type": "stream",
          "name": "stdout",
          "text": [
            "Enter ur data:10\n",
            "Enter ur data:23\n",
            "Enter ur data:5\n",
            "Enter ur data:40\n",
            "Enter ur data:400\n",
            "Enter ur data:300\n",
            "Enter ur data:STOP\n",
            "[10, 23, 5, 40, 400, 300]\n"
          ]
        }
      ]
    },
    {
      "cell_type": "code",
      "source": [
        "max_val=l1[0]\n",
        "\n",
        "for i in range(1, len(l1)):\n",
        "    if l1[i]>max_val:\n",
        "        max_val=l1[i]\n",
        "\n",
        "sec_max=l1[0]\n",
        "\n",
        "for i in range(1, len(l1)):\n",
        "    if l1[i]>sec_max and l1[i]!=max_val :\n",
        "        sec_max=l1[i]\n",
        "\n",
        "\n",
        "print(max_val, sec_max)"
      ],
      "metadata": {
        "colab": {
          "base_uri": "https://localhost:8080/"
        },
        "id": "HcmWelvI7yry",
        "outputId": "73633ec9-16c8-412a-ae68-ebd01619e9cd"
      },
      "execution_count": 53,
      "outputs": [
        {
          "output_type": "stream",
          "name": "stdout",
          "text": [
            "400 300\n"
          ]
        }
      ]
    },
    {
      "cell_type": "code",
      "source": [
        "#write a function in python which detects whether the\n",
        "# given two strings are anagrams or not?\n",
        "\n",
        "# race, care\n",
        "\n",
        "s1=input(\"Enter first String:\")\n",
        "s2=input(\"Enter second String:\")\n",
        "\n",
        "if len(s1)==len(s2):\n",
        "    for char in s1:\n",
        "        if char not in s2:\n",
        "            print(\"Not an anagram\")\n",
        "            break;\n",
        "    else:\n",
        "        for char in s2:\n",
        "            if char not in s1:\n",
        "                print(\"Not an anagram\")\n",
        "                break;\n",
        "        else:\n",
        "            print(\"Anagram\")\n",
        "        \n",
        "else:\n",
        "    print(\"Not an anagram\")\n",
        "\n"
      ],
      "metadata": {
        "colab": {
          "base_uri": "https://localhost:8080/"
        },
        "id": "HTYiE1xN9HDb",
        "outputId": "b0695e0e-2f71-42ec-9248-acafe437d970"
      },
      "execution_count": 58,
      "outputs": [
        {
          "output_type": "stream",
          "name": "stdout",
          "text": [
            "Enter first String:abcd\n",
            "Enter second String:dbca\n",
            "Anagram\n"
          ]
        }
      ]
    },
    {
      "cell_type": "code",
      "source": [
        "s1=input(\"Enter your string:\")\n",
        "s2=s1[::-1]\n",
        "print(s2)"
      ],
      "metadata": {
        "colab": {
          "base_uri": "https://localhost:8080/"
        },
        "id": "6p3rdH_g-t4N",
        "outputId": "103299f7-a3ad-45ad-cc28-980cfe4cd324"
      },
      "execution_count": 64,
      "outputs": [
        {
          "output_type": "stream",
          "name": "stdout",
          "text": [
            "Enter your string:Odinschool\n",
            "loohcsnidO\n"
          ]
        }
      ]
    },
    {
      "cell_type": "code",
      "source": [
        "#def a function which takes balls bowled by baller and return over. \n",
        "# for eg. 164 balls and over will be=27.2 . please explain this mam\n",
        "\n",
        "no_of_ball=185\n",
        "no_of_full_over=no_of_ball//6\n",
        "balls=no_of_ball%6\n",
        "overs=str(no_of_full_over)+'.'+str(balls)\n",
        "print(overs)"
      ],
      "metadata": {
        "colab": {
          "base_uri": "https://localhost:8080/"
        },
        "id": "q_WWErDs_uAK",
        "outputId": "ea8abf1f-91a4-474d-d7ad-80675df43165"
      },
      "execution_count": 68,
      "outputs": [
        {
          "output_type": "stream",
          "name": "stdout",
          "text": [
            "30.5\n"
          ]
        }
      ]
    },
    {
      "cell_type": "code",
      "source": [
        "#print prime numbers using while loop\n",
        "#number divisble by 1 and itself\n",
        "# 0 and 1 are not prime\n",
        "#2 is the only even prime\n",
        "\n",
        "num=int(input(\"Enter the number to be checked\"))\n",
        "\n",
        "for i in range(2, num//2+1):\n",
        "    print(i, num, num%i)\n",
        "    if num%i==0:\n",
        "        print(\"not prime\")\n",
        "        break\n",
        "else:\n",
        "    print(\"Prime\")"
      ],
      "metadata": {
        "colab": {
          "base_uri": "https://localhost:8080/"
        },
        "id": "wW6XiLDaAy6S",
        "outputId": "efc91928-f3d8-4e6b-d033-662ba90e35ce"
      },
      "execution_count": 78,
      "outputs": [
        {
          "output_type": "stream",
          "name": "stdout",
          "text": [
            "Enter the number to be checked11\n",
            "2 11 1\n",
            "3 11 2\n",
            "4 11 3\n",
            "5 11 1\n",
            "Prime\n"
          ]
        }
      ]
    },
    {
      "cell_type": "code",
      "source": [
        "#WAP for sorting a given alphanumeric string \n",
        "#to get sorted numeric values first then vowels and sorted string\n",
        "\n",
        "def sort_string(s1):\n",
        "    n=[]\n",
        "    v=[]\n",
        "    c=[]\n",
        "    for char in s1:\n",
        "        if char.isdigit():\n",
        "            n.append(char)\n",
        "        elif char.lower() in 'aeiou':\n",
        "            v.append(char)\n",
        "        else:\n",
        "            c.append(char)\n",
        "\n",
        "    n.sort()\n",
        "    n=''.join(n)\n",
        "    v.sort()\n",
        "    v=''.join(v)\n",
        "    c.sort()\n",
        "    c=''.join(c)\n",
        "    print(n,v,c)\n",
        "\n",
        "s1=input('Enter your string:')\n",
        "sort_string(s1)\n",
        "\n",
        "\n",
        "\n"
      ],
      "metadata": {
        "colab": {
          "base_uri": "https://localhost:8080/"
        },
        "id": "HTCMnLvHC3xx",
        "outputId": "2e558c52-1457-4f26-9734-58fe6af1031b"
      },
      "execution_count": 91,
      "outputs": [
        {
          "output_type": "stream",
          "name": "stdout",
          "text": [
            "Enter your string:Sharda219101Singh\n",
            "011129 aai SSdghhnr\n"
          ]
        }
      ]
    },
    {
      "cell_type": "code",
      "source": [
        "family_member=['Mom','Dad','Kid1','Kid2','Spouse','Me']\n",
        "\n",
        "chapatis=3\n",
        "\n",
        "for em in family_member:\n",
        "    print(em)\n",
        "    for c in range(chapatis):\n",
        "        print(em,':',c)"
      ],
      "metadata": {
        "colab": {
          "base_uri": "https://localhost:8080/"
        },
        "id": "nGBFGntxHgpK",
        "outputId": "687192e7-6e04-44b5-ddae-bdb9dbb08309"
      },
      "execution_count": 93,
      "outputs": [
        {
          "output_type": "stream",
          "name": "stdout",
          "text": [
            "Mom\n",
            "Mom : 0\n",
            "Mom : 1\n",
            "Mom : 2\n",
            "Dad\n",
            "Dad : 0\n",
            "Dad : 1\n",
            "Dad : 2\n",
            "Kid1\n",
            "Kid1 : 0\n",
            "Kid1 : 1\n",
            "Kid1 : 2\n",
            "Kid2\n",
            "Kid2 : 0\n",
            "Kid2 : 1\n",
            "Kid2 : 2\n",
            "Spouse\n",
            "Spouse : 0\n",
            "Spouse : 1\n",
            "Spouse : 2\n",
            "Me\n",
            "Me : 0\n",
            "Me : 1\n",
            "Me : 2\n"
          ]
        }
      ]
    }
  ]
}