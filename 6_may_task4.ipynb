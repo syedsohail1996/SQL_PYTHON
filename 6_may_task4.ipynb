{
  "nbformat": 4,
  "nbformat_minor": 0,
  "metadata": {
    "colab": {
      "provenance": []
    },
    "kernelspec": {
      "name": "python3",
      "display_name": "Python 3"
    },
    "language_info": {
      "name": "python"
    }
  },
  "cells": [
    {
      "cell_type": "code",
      "execution_count": 3,
      "metadata": {
        "colab": {
          "base_uri": "https://localhost:8080/"
        },
        "id": "3pYCwemJkdWG",
        "outputId": "d33ca480-ec0e-41ba-f6ed-3d69daccbd0e"
      },
      "outputs": [
        {
          "output_type": "stream",
          "name": "stdout",
          "text": [
            "35\n"
          ]
        }
      ],
      "source": [
        "plus_age = lambda age: age + 10\n",
        "print(plus_age(25)) # Output: 35\n"
      ]
    }
  ]
}