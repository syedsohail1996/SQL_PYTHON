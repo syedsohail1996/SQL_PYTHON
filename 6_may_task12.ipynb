{
  "nbformat": 4,
  "nbformat_minor": 0,
  "metadata": {
    "colab": {
      "provenance": []
    },
    "kernelspec": {
      "name": "python3",
      "display_name": "Python 3"
    },
    "language_info": {
      "name": "python"
    }
  },
  "cells": [
    {
      "cell_type": "markdown",
      "source": [
        "Write a python program to find the maximum weight in pounds from a given tuple weight_pounds.\n",
        "\n",
        "weight_pounds = (173, 152, 205, 119, 250)"
      ],
      "metadata": {
        "id": "LBYK6TfW1Btr"
      }
    },
    {
      "cell_type": "code",
      "execution_count": 4,
      "metadata": {
        "colab": {
          "base_uri": "https://localhost:8080/"
        },
        "id": "3pYCwemJkdWG",
        "outputId": "f8031534-3c37-4ceb-d669-b039cef6de16"
      },
      "outputs": [
        {
          "output_type": "stream",
          "name": "stdout",
          "text": [
            "Maximum weight in pounds: 250\n"
          ]
        }
      ],
      "source": [
        "weight_pounds = (173, 152, 205, 119, 250)\n",
        "\n",
        "max_weight = max(weight_pounds)\n",
        "\n",
        "print(\"Maximum weight in pounds:\", max_weight)\n",
        "\n"
      ]
    }
  ]
}