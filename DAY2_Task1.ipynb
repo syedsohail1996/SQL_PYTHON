{
  "nbformat": 4,
  "nbformat_minor": 0,
  "metadata": {
    "colab": {
      "provenance": []
    },
    "kernelspec": {
      "name": "python3",
      "display_name": "Python 3"
    },
    "language_info": {
      "name": "python"
    }
  },
  "cells": [
    {
      "cell_type": "markdown",
      "source": [
        "**Print the receipt as below when age<55:**"
      ],
      "metadata": {
        "id": "Ry61FIqS_N-l"
      }
    },
    {
      "cell_type": "code",
      "execution_count": 2,
      "metadata": {
        "colab": {
          "base_uri": "https://localhost:8080/"
        },
        "id": "s-tjWIK_-TPX",
        "outputId": "c6cd183e-ebd7-4b97-cff8-9c5222d9fc33"
      },
      "outputs": [
        {
          "output_type": "stream",
          "name": "stdout",
          "text": [
            "Enter Your Nmae :Raziya\n",
            "Enter Your Age :65\n",
            "Enter Amount :1000\n",
            "Raziya has to pay 900.0\n"
          ]
        }
      ],
      "source": [
        "name=input(\"Enter Your Nmae :\")\n",
        "age=int(input(\"Enter Your Age :\"))\n",
        "amount=int(input(\"Enter Amount :\"))\n",
        "if age>55:\n",
        "  amount*=0.9\n",
        "\n",
        "print(f\"{name} has to pay {amount}\")"
      ]
    }
  ]
}