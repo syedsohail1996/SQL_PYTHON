{
  "nbformat": 4,
  "nbformat_minor": 0,
  "metadata": {
    "colab": {
      "provenance": []
    },
    "kernelspec": {
      "name": "python3",
      "display_name": "Python 3"
    },
    "language_info": {
      "name": "python"
    }
  },
  "cells": [
    {
      "cell_type": "markdown",
      "source": [
        "**WAP to prompt user to enter 2 numbers, Print the greater number among those 2**"
      ],
      "metadata": {
        "id": "7sH_L9SwBpki"
      }
    },
    {
      "cell_type": "code",
      "execution_count": 5,
      "metadata": {
        "colab": {
          "base_uri": "https://localhost:8080/"
        },
        "id": "q7hlMkHRAjcU",
        "outputId": "8527f6c0-f873-4e5c-e15b-5413426cfe18"
      },
      "outputs": [
        {
          "output_type": "stream",
          "name": "stdout",
          "text": [
            "Enter Your FIRST Number :698\n",
            "Enter Your SECOND Number :448\n",
            "Number 1 is Greater\n",
            "both are equal\n"
          ]
        }
      ],
      "source": [
        "num1=int(input(\"Enter Your FIRST Number :\"))\n",
        "num2=int(input(\"Enter Your SECOND Number :\"))\n",
        "if num1>num2:\n",
        "  print(\"Number 1 is Greater\")\n",
        "if num2>num1:\n",
        "  print(\"Number 2 is Greater\")\n",
        "else:\n",
        "  num1=num2\n",
        "  print(\"both are equal\")\n",
        "\n"
      ]
    }
  ]
}