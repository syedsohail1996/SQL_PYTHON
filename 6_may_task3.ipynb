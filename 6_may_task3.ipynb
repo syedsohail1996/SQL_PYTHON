{
  "nbformat": 4,
  "nbformat_minor": 0,
  "metadata": {
    "colab": {
      "provenance": []
    },
    "kernelspec": {
      "name": "python3",
      "display_name": "Python 3"
    },
    "language_info": {
      "name": "python"
    }
  },
  "cells": [
    {
      "cell_type": "code",
      "execution_count": 2,
      "metadata": {
        "id": "3pYCwemJkdWG"
      },
      "outputs": [],
      "source": [
        "def fibonacci(n):\n",
        "    # Base case: the first two numbers in the sequence are 0 and 1\n",
        "    if n == 0:\n",
        "        return 0\n",
        "    elif n == 1:\n",
        "        return 1\n",
        "    # Recursive case: the nth number is the sum of the (n-1)th and (n-2)th numbers\n",
        "    else:\n",
        "        return fibonacci(n-1) + fibonacci(n-2)\n"
      ]
    }
  ]
}