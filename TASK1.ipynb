{
  "nbformat": 4,
  "nbformat_minor": 0,
  "metadata": {
    "colab": {
      "provenance": []
    },
    "kernelspec": {
      "name": "python3",
      "display_name": "Python 3"
    },
    "language_info": {
      "name": "python"
    }
  },
  "cells": [
    {
      "cell_type": "code",
      "execution_count": 11,
      "metadata": {
        "colab": {
          "base_uri": "https://localhost:8080/"
        },
        "id": "5XnBdNSmD1Y6",
        "outputId": "6c9c72b2-9939-4859-ab32-8272b38bec2a"
      },
      "outputs": [
        {
          "output_type": "stream",
          "name": "stdout",
          "text": [
            "HELLO WORLD\n"
          ]
        }
      ],
      "source": [
        "print(\"HELLO WORLD\")"
      ]
    },
    {
      "cell_type": "code",
      "source": [
        "USERNAME= input(\"Enter your Name : \")\n",
        "print(\"hello SOHAIL,congratulations on your first python program!\")"
      ],
      "metadata": {
        "colab": {
          "base_uri": "https://localhost:8080/"
        },
        "id": "6_NtGj2wEsVF",
        "outputId": "b37d3689-fab2-4c72-92f2-5524380511bd"
      },
      "execution_count": 10,
      "outputs": [
        {
          "output_type": "stream",
          "name": "stdout",
          "text": [
            "Enter your Name : AMEER SOHAIL\n",
            "hello SOHAIL,congratulations on your first python program!\n"
          ]
        }
      ]
    },
    {
      "cell_type": "code",
      "source": [],
      "metadata": {
        "id": "7BCx9nAlQzqx"
      },
      "execution_count": null,
      "outputs": []
    }
  ]
}