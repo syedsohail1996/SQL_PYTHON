{
  "nbformat": 4,
  "nbformat_minor": 0,
  "metadata": {
    "colab": {
      "provenance": []
    },
    "kernelspec": {
      "name": "python3",
      "display_name": "Python 3"
    },
    "language_info": {
      "name": "python"
    }
  },
  "cells": [
    {
      "cell_type": "markdown",
      "source": [],
      "metadata": {
        "id": "LBYK6TfW1Btr"
      }
    },
    {
      "cell_type": "code",
      "execution_count": 5,
      "metadata": {
        "colab": {
          "base_uri": "https://localhost:8080/"
        },
        "id": "3pYCwemJkdWG",
        "outputId": "ddaa219f-a023-4a9c-cc9c-c719db192469"
      },
      "outputs": [
        {
          "output_type": "stream",
          "name": "stdout",
          "text": [
            "Array:\n",
            " [[1 2 3]\n",
            " [4 5 6]\n",
            " [7 8 9]]\n",
            "Dimension of the array: 2\n",
            "Size of the array: 9\n",
            "Shape of the array: (3, 3)\n"
          ]
        }
      ],
      "source": [
        "import numpy as np\n",
        "\n",
        "# Create a 2x2 array with multiple values\n",
        "arr = np.array([[1, 2], [3, 4]])\n",
        "\n",
        "# Get the dimension of the array\n",
        "dim = arr.ndim\n",
        "\n",
        "# Get the size of the array\n",
        "size = arr.size\n",
        "\n",
        "# Get the shape of the array\n",
        "shape = arr.shape\n",
        "\n",
        "print(\"Array:\\n\", arr)\n",
        "print(\"Dimension of the array:\", dim)\n",
        "print(\"Size of the array:\", size)\n",
        "print(\"Shape of the array:\", shape)\n"
      ]
    }
  ]
}