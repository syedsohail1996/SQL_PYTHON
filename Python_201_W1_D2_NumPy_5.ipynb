{
  "cells": [
    {
      "cell_type": "markdown",
      "metadata": {
        "id": "jn6GoDcH9C-H"
      },
      "source": [
        "# NumPy"
      ]
    },
    {
      "cell_type": "markdown",
      "metadata": {
        "id": "Younsz1CYcz4"
      },
      "source": [
        "NumPy (Numerical Python) is a popular Python library for scientific computing that provides powerful tools for working with arrays, matrices, and other numerical data. It is one of the fundamental libraries in the Python data science ecosystem, and is used extensively in fields such as machine learning, physics, engineering, finance, and more.\n",
        "\n",
        "NumPy provides a high-performance multidimensional array object, which is the core data structure used in many numerical algorithms. The library also provides a wide range of mathematical functions for manipulating arrays and matrices, as well as tools for linear algebra, Fourier analysis, and random number generation.\n",
        "\n",
        "Some of the key features of NumPy include:\n",
        "\n",
        "* Fast and memory-efficient array processing\n",
        "* Comprehensive array slicing and indexing capabilities\n",
        "* Broadcasting functionality for performing element-wise operations on arrays with different shapes and sizes\n",
        "* A powerful suite of linear algebra and statistical functions\n",
        "* Compatibility with other Python libraries, such as SciPy, Pandas, and Matplotlib.\n",
        "* NumPy is an open-source project that can be installed using pip, the standard package manager for Python. Once installed, NumPy can be imported into a Python script or interactive session using the import numpy statement."
      ]
    },
    {
      "cell_type": "markdown",
      "metadata": {
        "id": "faSehF219C-M"
      },
      "source": [
        "- **Numerical python**\n",
        "- Geometrical, calculus, arithmatic\n",
        "- Collection of similar classes\n",
        "- Classes are collection of similar variables and methods\n",
        "- Performing numerical operations in python\n"
      ]
    },
    {
      "cell_type": "markdown",
      "metadata": {
        "id": "o4hnMVQ09C-N"
      },
      "source": [
        "- **Saving Code time**\n",
        "- **No for loops**\n",
        "- **Faster Execution**\n",
        "- **Uses less memory over list**"
      ]
    },
    {
      "cell_type": "markdown",
      "metadata": {
        "id": "vT01fN4jYcz7"
      },
      "source": [
        "### Official link to numpy\n",
        "https://numpy.org/doc/stable/user/absolute_beginners.html"
      ]
    },
    {
      "cell_type": "code",
      "execution_count": null,
      "metadata": {
        "id": "OU9x--Ea9C-T"
      },
      "outputs": [],
      "source": [
        "\n"
      ]
    },
    {
      "cell_type": "markdown",
      "metadata": {
        "id": "L8WtpZ7BYcz-"
      },
      "source": [
        "## Installing libraries\n",
        "#!pip install numpy"
      ]
    },
    {
      "cell_type": "markdown",
      "metadata": {
        "id": "ScjUhe4U9C-T"
      },
      "source": [
        "## Importing libraries\n",
        "\n",
        "- We can not just import libraries and call them directly as some libraries names are big\n",
        "- Hence, we use alias such as np for numpy (conventional way)"
      ]
    },
    {
      "cell_type": "code",
      "execution_count": null,
      "metadata": {
        "id": "D82eCaLl9C-U"
      },
      "outputs": [],
      "source": [
        "# Importing numpy library\n",
        "import numpy as np"
      ]
    },
    {
      "cell_type": "markdown",
      "metadata": {
        "id": "pEBdS8oX9C-R"
      },
      "source": [
        "## Data structures\n",
        "- Scalar\n",
        "- Vector\n",
        "- Arrays \n",
        "- Matrix (built in)\n",
        "\n"
      ]
    },
    {
      "cell_type": "markdown",
      "metadata": {
        "id": "apkB-U_-Yc0A"
      },
      "source": [
        "#### Number of dimensions (a.ndim)\n",
        "- The number of dimensions is the rank of array\n",
        "\n",
        "#### Shape of an array (a.shape)\n",
        "- The shape of any array is tuple of integers giving the size of the array along each dimension.\n",
        "\n",
        "#### Size of an array (a.size)\n",
        "- how many values there are in the array using the size attribute"
      ]
    },
    {
      "cell_type": "markdown",
      "metadata": {
        "id": "LnlEsUjnYc0B"
      },
      "source": [
        "#### Arrays:\n",
        "- A numpy Array is a collection of common type of data structures having elements with same data type. \n",
        "- It is indexed by a tuple of non-negative integers.\n",
        "- It is used to store collections of data. \n",
        "- In Python programming, an arrays are handled by the “array” module. \n",
        "- If you create arrays using the array module, elements of the array must be of the same data type.\n",
        "\n",
        "NumPy is used for working with an array."
      ]
    },
    {
      "cell_type": "markdown",
      "metadata": {
        "id": "uLaIYmK89C-U"
      },
      "source": [
        "### Scalar"
      ]
    },
    {
      "cell_type": "code",
      "execution_count": null,
      "metadata": {
        "id": "iHYqrgxc9C-U",
        "outputId": "11e764fb-9997-4815-b1b1-8c309e2c2a82"
      },
      "outputs": [
        {
          "name": "stdout",
          "output_type": "stream",
          "text": [
            "5\n"
          ]
        }
      ],
      "source": [
        "a_scalar = np.array(5) # creating an np array\n",
        "print(a_scalar) # printing the result"
      ]
    },
    {
      "cell_type": "markdown",
      "metadata": {
        "id": "28ddgwp4Yc0D"
      },
      "source": [
        "#### Explanation:\n",
        "- The code creates a NumPy array called a with a single scalar element of value 5."
      ]
    },
    {
      "cell_type": "code",
      "execution_count": null,
      "metadata": {
        "colab": {
          "base_uri": "https://localhost:8080/"
        },
        "id": "fD3g2DrS9C-V",
        "outputId": "e47194b5-62b1-46fd-b4ee-9afad1d96ac9"
      },
      "outputs": [
        {
          "data": {
            "text/plain": [
              "0"
            ]
          },
          "execution_count": 34,
          "metadata": {},
          "output_type": "execute_result"
        }
      ],
      "source": [
        "a_scalar.ndim # number of dimensions"
      ]
    },
    {
      "cell_type": "markdown",
      "metadata": {
        "id": "FaMnay3VYc0E"
      },
      "source": [
        "#### Explanation:\n",
        "The result of calling np.array(5) is a 0-dimensional array, also known as a scalar or a rank-0 array. This is because the input argument is a single value, not a sequence of values."
      ]
    },
    {
      "cell_type": "code",
      "execution_count": null,
      "metadata": {
        "id": "ciMoCQ5kYc0E",
        "outputId": "b5cb9d21-a8ce-4261-bff1-9e49ca47a9a1"
      },
      "outputs": [
        {
          "data": {
            "text/plain": [
              "()"
            ]
          },
          "execution_count": 35,
          "metadata": {},
          "output_type": "execute_result"
        }
      ],
      "source": [
        "a_scalar.shape # shape of variable a_scalar"
      ]
    },
    {
      "cell_type": "code",
      "execution_count": null,
      "metadata": {
        "id": "iiMNpVZpYc0F",
        "outputId": "00b889b4-b006-4807-aa74-63459e7f6c07"
      },
      "outputs": [
        {
          "data": {
            "text/plain": [
              "1"
            ]
          },
          "execution_count": 36,
          "metadata": {},
          "output_type": "execute_result"
        }
      ],
      "source": [
        "a_scalar.size # size of variable a_scalar"
      ]
    },
    {
      "cell_type": "markdown",
      "metadata": {
        "id": "61cZ3PisYc0G"
      },
      "source": [
        "#### Explanation:\n",
        "The shape attribute of a is called using the syntax a.shape. Since a is a scalar array, its shape is an empty tuple ()."
      ]
    },
    {
      "cell_type": "markdown",
      "metadata": {
        "id": "PU5Yb8VRYc0G"
      },
      "source": [
        "### Initializing a numpy array\n",
        "- We can initialize numpy arrays from nested Python lists, and access elements using square bracktes."
      ]
    },
    {
      "cell_type": "markdown",
      "metadata": {
        "id": "54KqdheI9C-V"
      },
      "source": [
        "### Vector"
      ]
    },
    {
      "cell_type": "markdown",
      "metadata": {
        "id": "ctS2fCBl9C-W",
        "outputId": "8c11ef8b-3904-42f4-d3ef-879839a0177d"
      },
      "source": [
        "In NumPy, a vector is typically represented as a 1-dimensional array. A 1D NumPy array can be created using the np.array() function and passing in a list or tuple of values"
      ]
    },
    {
      "cell_type": "markdown",
      "metadata": {
        "id": "jNbz-eRwYc0H"
      },
      "source": [
        "### Transposing a vector"
      ]
    },
    {
      "cell_type": "code",
      "execution_count": null,
      "metadata": {
        "id": "jqMQ7I2B9C-W",
        "outputId": "2cd8a702-077c-4d80-c3cc-96844b3d7ad4"
      },
      "outputs": [
        {
          "name": "stdout",
          "output_type": "stream",
          "text": [
            "[[1]\n",
            " [2]\n",
            " [3]]\n"
          ]
        }
      ],
      "source": [
        "a = np.array([[1, 2, 3]])\n",
        "print(a.T) # T is used to transpose the vector"
      ]
    },
    {
      "cell_type": "markdown",
      "metadata": {
        "id": "zhcRyrwi0Jay"
      },
      "source": [
        "### Matrix"
      ]
    },
    {
      "cell_type": "markdown",
      "metadata": {
        "id": "B5I7-C1yZl_w"
      },
      "source": [
        "In Numpy, a matrix is represented as a two-dimensional array. You can create a matrix in Numpy by simply passing a list of lists to the numpy.array() function. "
      ]
    },
    {
      "cell_type": "markdown",
      "metadata": {
        "id": "Qaf09eeDUbha"
      },
      "source": [
        "### linspace()\n",
        "linspace is a NumPy function that is used to create a 1-dimensional array of equally spaced numbers within a specified range. The function takes three arguments: \n",
        "<br>\n",
        "<br>\n",
        "**np.linspace(start, stop, num)**\n",
        "<br>\n",
        "<br>\n",
        "**start**: The starting value of the sequence.\n",
        "<br>\n",
        "**stop**: The end value of the sequence.\n",
        "<br>\n",
        "**num**: The number of evenly spaced numbers to generate between start and stop, inclusive."
      ]
    },
    {
      "cell_type": "markdown",
      "metadata": {
        "id": "MXJhCObXYc0R"
      },
      "source": [
        "Note that linspace is similar to the arange function, but the main difference is that arange generates numbers with a step size between them, while linspace generates numbers with a fixed number of points within the range."
      ]
    },
    {
      "cell_type": "markdown",
      "metadata": {
        "id": "nhoiVqUVYc0R"
      },
      "source": [
        "## Basic mathematics in numpy\n"
      ]
    },
    {
      "cell_type": "markdown",
      "metadata": {
        "id": "0TRzCUPVYc0S"
      },
      "source": [
        "### Addition:\n",
        "- add multiple arrays either using **(x + y)** or **np.sum(x, y)** or **np.add(x, y)**"
      ]
    },
    {
      "cell_type": "markdown",
      "metadata": {
        "id": "63fd2ZiiYc0S"
      },
      "source": [
        "### Subtraction\n",
        "- subtract multiple arrays either using **(x - y)** or **np.subtract(x, y)** "
      ]
    },
    {
      "cell_type": "markdown",
      "metadata": {
        "id": "3wW-et7JYc0S"
      },
      "source": [
        "### Multiplication\n",
        "Multiply multiple arrays either using **(x * y)** or **np.multiply(x, y)** "
      ]
    },
    {
      "cell_type": "markdown",
      "metadata": {
        "id": "jmId0PO0Yc0S"
      },
      "source": [
        "### Divison\n",
        "Divide multiple arrays either using **(x/y)** or **np.divide(x, y)**"
      ]
    },
    {
      "cell_type": "markdown",
      "metadata": {
        "id": "9f-fR5fTYc0T"
      },
      "source": [
        "### Multidimension arrays\n",
        "Same approach can by used multidimension array.\n",
        "<br>\n",
        "Axis can be defined to add them by either row wise (axis = 0) or column wise (axis = 1). \n",
        "<br>\n",
        "If no axis defined, it will add all elements together.\n"
      ]
    },
    {
      "cell_type": "markdown",
      "metadata": {
        "id": "R-jdc2dnYc0U"
      },
      "source": [
        "### Basic mathematics with multiple arrays\n",
        "When we add, subtract, multiply and divide multiple arrays, they perform maths element wise."
      ]
    },
    {
      "cell_type": "code",
      "execution_count": null,
      "metadata": {
        "id": "hlFpERCjYc0U",
        "outputId": "88d72b75-0ac6-406c-f4aa-5130cd5d570a"
      },
      "outputs": [
        {
          "data": {
            "text/plain": [
              "array([10, 18, 12])"
            ]
          },
          "execution_count": 19,
          "metadata": {},
          "output_type": "execute_result"
        }
      ],
      "source": [
        "# multiply arrays\n",
        "a = np.array([2,3,4]) \n",
        "b = np.array([5,6,3])\n",
        "np.multiply(a,b) # element wise multiplication"
      ]
    },
    {
      "cell_type": "code",
      "execution_count": null,
      "metadata": {
        "id": "2jthVCt7Yc0V",
        "outputId": "93e07ba3-c7f9-4834-e910-bdd1186e4388"
      },
      "outputs": [
        {
          "name": "stdout",
          "output_type": "stream",
          "text": [
            "[10 18 12]\n"
          ]
        }
      ],
      "source": [
        "print(a * b)"
      ]
    },
    {
      "cell_type": "markdown",
      "metadata": {
        "id": "hZ3nmgc4Yc0W"
      },
      "source": [
        "### Other mathematical functions"
      ]
    },
    {
      "cell_type": "code",
      "execution_count": null,
      "metadata": {
        "id": "ER1io5B4Yc0W",
        "outputId": "ef90f598-e879-40d8-8877-480b79b07aff"
      },
      "outputs": [
        {
          "name": "stdout",
          "output_type": "stream",
          "text": [
            "[ 2.71828183  7.3890561  54.59815003]\n",
            "[1.         1.41421356 2.        ]\n"
          ]
        }
      ],
      "source": [
        "# exp, sqrt\n",
        "a=[1,2,4]\n",
        "print(np.exp(a))\n",
        "print(np.sqrt(a))"
      ]
    },
    {
      "cell_type": "markdown",
      "metadata": {
        "id": "e4f8MoSAYc0W"
      },
      "source": [
        "### Statistical functions\n",
        "We can simply perform basic descriptive statistics analysis such as:\n",
        "<br>\n",
        "**mean**: np.mean(a)\n",
        "<br>\n",
        "**median**: np.median(a)\n",
        "<br>\n",
        "**var**: np.var(a) for population and **np.var(a, ddof = 1)** for sample\n",
        "<br>\n",
        "**std**: np.std(a) for population and **np.std(a, ddof = 1)** for sample\n",
        "<br>\n",
        "**mode**: st.mode(a) from scipy library"
      ]
    },
    {
      "cell_type": "markdown",
      "metadata": {
        "id": "vMjOXulcYc0X"
      },
      "source": [
        "#### Using multidimensional array to perform basic descriptive statistics"
      ]
    },
    {
      "cell_type": "code",
      "execution_count": null,
      "metadata": {
        "colab": {
          "base_uri": "https://localhost:8080/"
        },
        "id": "Oo9Xs5vUdDK-",
        "outputId": "ee9564e0-9138-428e-8743-02fd806319be"
      },
      "outputs": [
        {
          "name": "stdout",
          "output_type": "stream",
          "text": [
            "[[1 6 7]\n",
            " [4 3 9]]\n"
          ]
        }
      ],
      "source": [
        "a = np.array([[1, 6, 7],\n",
        "[4, 3, 9]])\n",
        "print(a)\n"
      ]
    },
    {
      "cell_type": "code",
      "execution_count": null,
      "metadata": {
        "id": "tm3bmfUAYc0Y",
        "outputId": "9dc73def-27a8-4bc8-8da3-48917a1c41fc"
      },
      "outputs": [
        {
          "name": "stdout",
          "output_type": "stream",
          "text": [
            "Min : [1 3 7]\n",
            "Max : [7 9]\n",
            "Mean : [2.5 4.5 8. ]\n",
            "Mean : [4.66666667 5.33333333]\n",
            "Median : [6. 4.]\n",
            "Median : [2.5 4.5 8. ]\n"
          ]
        }
      ],
      "source": [
        "# minimum along a column\n",
        "print('Min :',np.min(a,axis=0))\n",
        "# maximum along a row\n",
        "print('Max :',np.max(a,axis=1))\n",
        "print('Mean :',np.mean(a,axis=0))\n",
        "print('Mean :',np.mean(a,axis=1))\n",
        "print('Median :',np.median(a,axis=1))\n",
        "print('Median :',np.median(a,axis=0))"
      ]
    },
    {
      "cell_type": "markdown",
      "metadata": {
        "id": "kOR22im6Yc0Y"
      },
      "source": [
        "### Dot product\n",
        "In NumPy, the dot product of two arrays can be computed using the **numpy.dot(a, b)** function or **a.dot(b)**."
      ]
    },
    {
      "cell_type": "markdown",
      "metadata": {
        "id": "OdSrYlQVYc0Y"
      },
      "source": [
        "### Dot product between a scalar and a vector. "
      ]
    },
    {
      "cell_type": "code",
      "execution_count": null,
      "metadata": {
        "id": "1zpaJifaYc0Y",
        "outputId": "ad1b8696-ff7c-48c4-b566-f7a552d42ece"
      },
      "outputs": [
        {
          "name": "stdout",
          "output_type": "stream",
          "text": [
            "Dot product: [2 4 6]\n"
          ]
        }
      ],
      "source": [
        "a = np.array([1, 2, 3])\n",
        "b = 2\n",
        "\n",
        "dot_product = np.dot(a, b)\n",
        "print(\"Dot product:\", dot_product)"
      ]
    },
    {
      "cell_type": "code",
      "execution_count": null,
      "metadata": {
        "id": "2NBqtcQ2Yc0Z",
        "outputId": "be47798a-3140-4d76-f2af-b1a1b3da4279"
      },
      "outputs": [
        {
          "name": "stdout",
          "output_type": "stream",
          "text": [
            "Dot product: [2 4 6]\n"
          ]
        }
      ],
      "source": [
        "dot_product = a.dot(b)\n",
        "print(\"Dot product:\", dot_product)"
      ]
    },
    {
      "cell_type": "markdown",
      "metadata": {
        "id": "cAncoUpJYc0a"
      },
      "source": [
        "## Slicing an array\n",
        "- NumPy arrays can be sliced similar to python list\n",
        "- Since arrays are multidimensional, we must have to specify a slice for each dimension of the array.\n",
        "- [row, column]\n",
        "- [ : , : ] means all rows and all columns.\n",
        "- [0,0] means first element of a multidimensional array"
      ]
    },
    {
      "cell_type": "code",
      "execution_count": null,
      "metadata": {
        "id": "_vr1aqAfYc0a",
        "outputId": "c0231837-fffa-45e8-db62-ff52cc6ff501"
      },
      "outputs": [
        {
          "name": "stdout",
          "output_type": "stream",
          "text": [
            "[[1 2 3]\n",
            " [4 5 6]\n",
            " [7 8 9]]\n"
          ]
        }
      ],
      "source": [
        "# to slice arrays based on arrays\n",
        "a = np.array([[1,2,3],[4,5,6],[7,8,9]]) \n",
        "print(a)"
      ]
    },
    {
      "cell_type": "markdown",
      "metadata": {
        "id": "duXNtKTLYc0a"
      },
      "source": [
        "### Creating an array containing only first row."
      ]
    },
    {
      "cell_type": "code",
      "execution_count": null,
      "metadata": {
        "id": "e6JvwGUvYc0b",
        "outputId": "b2a42524-9fbe-43a3-d9ec-1c2c029f31e9"
      },
      "outputs": [
        {
          "data": {
            "text/plain": [
              "array([1, 2, 3])"
            ]
          },
          "execution_count": 8,
          "metadata": {},
          "output_type": "execute_result"
        }
      ],
      "source": [
        "a[0]"
      ]
    },
    {
      "cell_type": "markdown",
      "metadata": {
        "id": "k_oG52CWYVBj"
      },
      "source": [
        "## Boolean array indexing\n",
        "- It lets us to pick out arbitrary  elements of an array\n",
        "- Used to pick the element of an array that satisfy some condition"
      ]
    },
    {
      "cell_type": "code",
      "execution_count": null,
      "metadata": {
        "id": "eMg4y_qVYc0c",
        "outputId": "067710b9-9c2d-4768-ae6a-89019e5fc756"
      },
      "outputs": [
        {
          "data": {
            "text/plain": [
              "array([[False, False],\n",
              "       [ True, False],\n",
              "       [ True,  True]])"
            ]
          },
          "execution_count": 42,
          "metadata": {},
          "output_type": "execute_result"
        }
      ],
      "source": [
        "a = np.array([[1, 2], [3, 1], [5, 6]])\n",
        "a > 2"
      ]
    },
    {
      "cell_type": "markdown",
      "metadata": {
        "id": "TClOn8-pV5ht"
      },
      "source": [
        "### Reshaping an array"
      ]
    },
    {
      "cell_type": "code",
      "execution_count": null,
      "metadata": {
        "id": "FhOdJVy-Yc0d",
        "outputId": "4c217cc0-74e0-44ae-a6dc-2aed59f90a28"
      },
      "outputs": [
        {
          "name": "stdout",
          "output_type": "stream",
          "text": [
            "[ 0  1  2  3  4  5  6  7  8  9 10 11 12 13 14 15]\n"
          ]
        },
        {
          "data": {
            "text/plain": [
              "array([[ 0,  1,  2,  3],\n",
              "       [ 4,  5,  6,  7],\n",
              "       [ 8,  9, 10, 11],\n",
              "       [12, 13, 14, 15]])"
            ]
          },
          "execution_count": 51,
          "metadata": {},
          "output_type": "execute_result"
        }
      ],
      "source": [
        "a = np.arange(16)\n",
        "print(a)\n",
        "array = np.arange(16).reshape(4, 4) # reshaping it into 2 columns 4 rows\n",
        "array"
      ]
    },
    {
      "cell_type": "code",
      "execution_count": null,
      "metadata": {
        "colab": {
          "base_uri": "https://localhost:8080/"
        },
        "id": "m4T0nChYVpbH",
        "outputId": "94fb6391-7d87-4502-96e5-4e6621f21bce"
      },
      "outputs": [
        {
          "name": "stdout",
          "output_type": "stream",
          "text": [
            "[[2 3 4]\n",
            " [4 5 6]]\n"
          ]
        }
      ],
      "source": [
        "a = np.array([[2,3,4],[4,5,6]])\n",
        "print(a)"
      ]
    },
    {
      "cell_type": "code",
      "execution_count": null,
      "metadata": {
        "id": "wPB_BjKoYc0d",
        "outputId": "c7310126-65ee-4e11-c4c2-ea7d5656ba98"
      },
      "outputs": [
        {
          "name": "stdout",
          "output_type": "stream",
          "text": [
            "[[2 3]\n",
            " [4 4]\n",
            " [5 6]]\n"
          ]
        }
      ],
      "source": [
        "a.shape=(3,2)\n",
        "print(a)"
      ]
    },
    {
      "cell_type": "markdown",
      "metadata": {
        "id": "ZeFLiiyxYc0e"
      },
      "source": [
        "### Splitting the array"
      ]
    },
    {
      "cell_type": "code",
      "execution_count": null,
      "metadata": {
        "id": "DHvAQO_vYc0e",
        "outputId": "ec14180e-345a-455f-cfcf-6f41a346fb26"
      },
      "outputs": [
        {
          "name": "stdout",
          "output_type": "stream",
          "text": [
            "[[ 0  1  2  3]\n",
            " [ 4  5  6  7]\n",
            " [ 8  9 10 11]\n",
            " [12 13 14 15]] \n",
            "\n",
            "\n"
          ]
        },
        {
          "data": {
            "text/plain": [
              "[array([[ 0,  1],\n",
              "        [ 4,  5],\n",
              "        [ 8,  9],\n",
              "        [12, 13]]),\n",
              " array([[ 2,  3],\n",
              "        [ 6,  7],\n",
              "        [10, 11],\n",
              "        [14, 15]])]"
            ]
          },
          "execution_count": 52,
          "metadata": {},
          "output_type": "execute_result"
        }
      ],
      "source": [
        "# split the same array horiz - after 2 cols\n",
        "x = np.arange(16).reshape(4,4)\n",
        "print(x, \"\\n\\n\")\n",
        "np.hsplit(x,2)"
      ]
    },
    {
      "cell_type": "markdown",
      "metadata": {
        "id": "PTplhuQ7dM2C"
      },
      "source": [
        "### sort\n",
        "Numpy provides several functions to sort arrays and matrices"
      ]
    },
    {
      "cell_type": "code",
      "execution_count": null,
      "metadata": {
        "colab": {
          "base_uri": "https://localhost:8080/"
        },
        "id": "RodMRAHDdO4U",
        "outputId": "382af3b0-b513-4825-8f7e-94b0e1f1fec1"
      },
      "outputs": [
        {
          "data": {
            "text/plain": [
              "array([1, 2, 3, 4, 5, 6, 7, 8, 9])"
            ]
          },
          "execution_count": 71,
          "metadata": {},
          "output_type": "execute_result"
        }
      ],
      "source": [
        "a = np.array([1,4,2,5,3,6,8,7,9])\n",
        "np.sort(a)"
      ]
    },
    {
      "cell_type": "code",
      "execution_count": null,
      "metadata": {
        "colab": {
          "base_uri": "https://localhost:8080/"
        },
        "id": "dR2LbTqydXYV",
        "outputId": "fcd3894f-84a2-4a01-cd62-bfeda0e47a10"
      },
      "outputs": [
        {
          "name": "stdout",
          "output_type": "stream",
          "text": [
            "[[5 6 7 4]\n",
            " [9 2 3 7]]\n"
          ]
        }
      ],
      "source": [
        "a = np.array([[5,6,7,4],\n",
        "              [9,2,3,7]])# sort along the column\n",
        "\n",
        "print(a)"
      ]
    },
    {
      "cell_type": "code",
      "execution_count": null,
      "metadata": {
        "colab": {
          "base_uri": "https://localhost:8080/"
        },
        "id": "IZhQ8Ls0dgzb",
        "outputId": "94bae3db-5f18-4985-a71c-8123d21c29bb"
      },
      "outputs": [
        {
          "name": "stdout",
          "output_type": "stream",
          "text": [
            "[[4 5 6 7]\n",
            " [2 3 7 9]]\n"
          ]
        }
      ],
      "source": [
        "print(np.sort(a, axis=1))"
      ]
    },
    {
      "cell_type": "markdown",
      "metadata": {
        "id": "lGpG-urvVSDi"
      },
      "source": [
        "### Identity matrix\n",
        "\n",
        "- An identity matrix is a square matrix where all the diagonal elements are 1 and all other elements are 0. In Numpy, you can create an identity matrix using the **numpy.identity()** or **np.eye()** function. Here's an example:"
      ]
    },
    {
      "cell_type": "code",
      "execution_count": null,
      "metadata": {
        "colab": {
          "base_uri": "https://localhost:8080/"
        },
        "id": "UpiIXb9qVUc7",
        "outputId": "4167ed7d-f1b6-41aa-86b9-b25dea9fb332"
      },
      "outputs": [
        {
          "data": {
            "text/plain": [
              "array([[1., 0., 0., 0.],\n",
              "       [0., 1., 0., 0.],\n",
              "       [0., 0., 1., 0.],\n",
              "       [0., 0., 0., 1.]])"
            ]
          },
          "execution_count": 58,
          "metadata": {},
          "output_type": "execute_result"
        }
      ],
      "source": [
        "np.eye(4)"
      ]
    },
    {
      "cell_type": "code",
      "execution_count": null,
      "metadata": {
        "id": "ficMShVzYc0h",
        "outputId": "1ebc85e6-b017-495e-efee-6de104fd2437"
      },
      "outputs": [
        {
          "data": {
            "text/plain": [
              "array([[1., 0., 0., 0.],\n",
              "       [0., 1., 0., 0.],\n",
              "       [0., 0., 1., 0.],\n",
              "       [0., 0., 0., 1.]])"
            ]
          },
          "execution_count": 10,
          "metadata": {},
          "output_type": "execute_result"
        }
      ],
      "source": [
        "np.identity(4)"
      ]
    },
    {
      "cell_type": "code",
      "execution_count": null,
      "metadata": {
        "colab": {
          "base_uri": "https://localhost:8080/"
        },
        "id": "hGKzFI0IVXkN",
        "outputId": "b50a36db-bfe7-4e5c-fced-c3e43e9e42cd"
      },
      "outputs": [
        {
          "data": {
            "text/plain": [
              "array([[0., 1., 0., 0.],\n",
              "       [0., 0., 1., 0.],\n",
              "       [0., 0., 0., 1.],\n",
              "       [0., 0., 0., 0.]])"
            ]
          },
          "execution_count": 13,
          "metadata": {},
          "output_type": "execute_result"
        }
      ],
      "source": [
        "np.eye(4, k = 1)"
      ]
    },
    {
      "cell_type": "markdown",
      "metadata": {
        "id": "nbGf0vwibc_R"
      },
      "source": [
        "### fliping an array"
      ]
    },
    {
      "cell_type": "code",
      "execution_count": null,
      "metadata": {
        "colab": {
          "base_uri": "https://localhost:8080/"
        },
        "id": "eU4o--QRbewV",
        "outputId": "43a9879d-9a1d-4535-c123-763a9999c639"
      },
      "outputs": [
        {
          "name": "stdout",
          "output_type": "stream",
          "text": [
            "[[ 1  2  3  4  5]\n",
            " [ 6  7  8  9 10]]\n"
          ]
        }
      ],
      "source": [
        "a = np.array([[1,2,3,4,5],\n",
        "[6,7,8,9,10]])\n",
        "print(a)\n"
      ]
    },
    {
      "cell_type": "code",
      "execution_count": null,
      "metadata": {
        "colab": {
          "base_uri": "https://localhost:8080/"
        },
        "id": "4XPF0L2gbomO",
        "outputId": "5f15f4df-e67a-4484-d937-800eea4389e1"
      },
      "outputs": [
        {
          "name": "stdout",
          "output_type": "stream",
          "text": [
            "[[ 5  4  3  2  1]\n",
            " [10  9  8  7  6]]\n"
          ]
        }
      ],
      "source": [
        "print(np.flip(a,axis=1))\n"
      ]
    },
    {
      "cell_type": "markdown",
      "metadata": {
        "id": "Ffh_ZSi9RDbr"
      },
      "source": []
    },
    {
      "cell_type": "markdown",
      "metadata": {
        "id": "eIPNCzjGYukv"
      },
      "source": [
        "## broadcasting\n",
        " - the ability of NumPy to treat arrays of different shapes during arithmetic operations"
      ]
    },
    {
      "cell_type": "code",
      "execution_count": null,
      "metadata": {
        "colab": {
          "base_uri": "https://localhost:8080/"
        },
        "id": "vAklkaFdYvyK",
        "outputId": "91378b03-0a0b-4705-a66f-12290d70881d"
      },
      "outputs": [
        {
          "name": "stdout",
          "output_type": "stream",
          "text": [
            "[[ 1  1  1]\n",
            " [10 10 10]\n",
            " [20 20 20]\n",
            " [30 30 30]]\n",
            "[1 2 3]\n"
          ]
        }
      ],
      "source": [
        "a = np.array([[1,1,1],[10,10,10],[20,20,20],[30,30,30]])\n",
        "b = np.array([1, 2, 3])\n",
        "print(a)\n",
        "print(b)\n"
      ]
    },
    {
      "cell_type": "code",
      "execution_count": null,
      "metadata": {
        "id": "8fmUZHWTYc0i",
        "outputId": "4901036a-f3ff-4c37-d0a8-dfe9dfd9e6da"
      },
      "outputs": [
        {
          "name": "stdout",
          "output_type": "stream",
          "text": [
            "(4, 3)\n",
            "(3,)\n"
          ]
        }
      ],
      "source": [
        "print(a.shape)\n",
        "print(b.shape)\n"
      ]
    },
    {
      "cell_type": "code",
      "execution_count": null,
      "metadata": {
        "id": "M6xBXJLqYc0i",
        "outputId": "4900dcc5-27f1-4bfc-c9ca-11f93e5e85ed"
      },
      "outputs": [
        {
          "name": "stdout",
          "output_type": "stream",
          "text": [
            "First array: \n",
            " [[ 1  1  1]\n",
            " [10 10 10]\n",
            " [20 20 20]\n",
            " [30 30 30]] \n",
            "\n",
            "Second array: \n",
            " [1 2 3] \n",
            "\n",
            "[[ 2  3  4]\n",
            " [11 12 13]\n",
            " [21 22 23]\n",
            " [31 32 33]]\n"
          ]
        }
      ],
      "source": [
        "print('First array: \\n',a,'\\n')\n",
        "print('Second array: \\n',b,'\\n')\n",
        "\n",
        "print(a+b)"
      ]
    },
    {
      "cell_type": "markdown",
      "metadata": {
        "id": "N6R-iGdvY8ND"
      },
      "source": [
        "## Stacking"
      ]
    },
    {
      "cell_type": "code",
      "execution_count": null,
      "metadata": {
        "id": "dP4qTmG8YycA"
      },
      "outputs": [],
      "source": [
        "a = np.array([1, 2, 3, 4])\n",
        "b = np.array([10, 11, 12, 13])\n"
      ]
    },
    {
      "cell_type": "code",
      "execution_count": null,
      "metadata": {
        "colab": {
          "base_uri": "https://localhost:8080/"
        },
        "id": "YHbiv-GuY_dU",
        "outputId": "6b685aea-9951-4641-f1c1-732bee4b1109"
      },
      "outputs": [
        {
          "name": "stdout",
          "output_type": "stream",
          "text": [
            "[[ 1  2  3  4]\n",
            " [10 11 12 13]]\n"
          ]
        }
      ],
      "source": [
        "print(np.vstack((a, b))) # vertical stacking"
      ]
    },
    {
      "cell_type": "code",
      "execution_count": null,
      "metadata": {
        "colab": {
          "base_uri": "https://localhost:8080/"
        },
        "id": "M1kAOurbZA1-",
        "outputId": "bc24e560-63ab-43c6-ab64-70ee4dee5be5"
      },
      "outputs": [
        {
          "name": "stdout",
          "output_type": "stream",
          "text": [
            "[ 1  2  3  4 10 11 12 13]\n"
          ]
        }
      ],
      "source": [
        "print(np.hstack((a, b))) # horizontal stacking"
      ]
    }
  ],
  "metadata": {
    "colab": {
      "provenance": []
    },
    "kernelspec": {
      "display_name": "Python 3 (ipykernel)",
      "language": "python",
      "name": "python3"
    },
    "language_info": {
      "codemirror_mode": {
        "name": "ipython",
        "version": 3
      },
      "file_extension": ".py",
      "mimetype": "text/x-python",
      "name": "python",
      "nbconvert_exporter": "python",
      "pygments_lexer": "ipython3",
      "version": "3.9.13"
    }
  },
  "nbformat": 4,
  "nbformat_minor": 0
}