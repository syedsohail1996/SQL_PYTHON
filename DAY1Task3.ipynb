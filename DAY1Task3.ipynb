{
  "nbformat": 4,
  "nbformat_minor": 0,
  "metadata": {
    "colab": {
      "provenance": []
    },
    "kernelspec": {
      "name": "python3",
      "display_name": "Python 3"
    },
    "language_info": {
      "name": "python"
    }
  },
  "cells": [
    {
      "cell_type": "markdown",
      "source": [
        "**Create a tuple from the list of numbers**"
      ],
      "metadata": {
        "id": "GXnnC21ANkXk"
      }
    },
    {
      "cell_type": "code",
      "execution_count": 1,
      "metadata": {
        "colab": {
          "base_uri": "https://localhost:8080/"
        },
        "id": "EZT9c-5lNV9G",
        "outputId": "11a9ce3b-b8a8-4dc4-8fab-a77b8b7902a8"
      },
      "outputs": [
        {
          "output_type": "stream",
          "name": "stdout",
          "text": [
            "(1, 2, 3, 4)\n"
          ]
        }
      ],
      "source": [
        "# Python3 program to convert a\n",
        "# list into a tuple\n",
        "def convert(list):\n",
        "\treturn tuple(list)\n",
        "list = [1, 2, 3, 4]\n",
        "print(convert(list))\n"
      ]
    },
    {
      "cell_type": "markdown",
      "source": [
        "**Print the Maximum and Minimum Value in the tuple**"
      ],
      "metadata": {
        "id": "wGD75gIcO9AE"
      }
    },
    {
      "cell_type": "code",
      "source": [
        "# Example tuple of numbers\n",
        "numbers = (10, 2, 45, 8, 19, 3, 15)\n",
        "\n",
        "# Find the maximum and minimum values\n",
        "max_value = max(numbers)\n",
        "min_value = min(numbers)\n",
        "\n",
        "# Print the maximum and minimum values\n",
        "print(\"Maximum value:\", max_value)\n",
        "print(\"Minimum value:\", min_value)\n"
      ],
      "metadata": {
        "colab": {
          "base_uri": "https://localhost:8080/"
        },
        "id": "I4jP3Q7WW1VY",
        "outputId": "258298f7-803c-4f93-8bbd-bc124a82877b"
      },
      "execution_count": 2,
      "outputs": [
        {
          "output_type": "stream",
          "name": "stdout",
          "text": [
            "Maximum value: 45\n",
            "Minimum value: 2\n"
          ]
        }
      ]
    },
    {
      "cell_type": "markdown",
      "source": [
        "**Insert value 21 at 5th index (Does it work?)**"
      ],
      "metadata": {
        "id": "HjpIxt0xXL4m"
      }
    },
    {
      "cell_type": "code",
      "source": [
        "#yes ,it's work\n",
        "list1=[1,22,55,4,97,96,52,26]\n",
        "list1.insert(4,21)\n",
        "print(list1)"
      ],
      "metadata": {
        "colab": {
          "base_uri": "https://localhost:8080/"
        },
        "id": "dbRe-kNiXQES",
        "outputId": "c796210f-5a3e-4b44-93a8-12bc3185346d"
      },
      "execution_count": 3,
      "outputs": [
        {
          "output_type": "stream",
          "name": "stdout",
          "text": [
            "[1, 22, 55, 4, 21, 97, 96, 52, 26]\n"
          ]
        }
      ]
    },
    {
      "cell_type": "markdown",
      "source": [
        "**Print the Sum of all the numbers in the tuple**"
      ],
      "metadata": {
        "id": "ae8p50mRaHkf"
      }
    },
    {
      "cell_type": "code",
      "source": [
        "list1=(1,55,61,21,26,29,96)\n",
        "sum_of_num=sum(list1)\n",
        "print(sum_of_num)"
      ],
      "metadata": {
        "colab": {
          "base_uri": "https://localhost:8080/"
        },
        "id": "a-TdPqmIaKar",
        "outputId": "d9d8f1b4-272f-46e0-bb89-3a0478fe6c70"
      },
      "execution_count": 4,
      "outputs": [
        {
          "output_type": "stream",
          "name": "stdout",
          "text": [
            "289\n"
          ]
        }
      ]
    },
    {
      "cell_type": "markdown",
      "source": [
        "**Remove the 6th element from the tuple (Does it work?)**\n"
      ],
      "metadata": {
        "id": "iEX1vGwJahoS"
      }
    },
    {
      "cell_type": "markdown",
      "source": [
        "In Python, tuples are immutable, which means their elements cannot be modified after they are created. Therefore, you cannot directly remove an element from a tuple. If you need to remove an element from a tuple, you would need to create a new tuple without the element you want to remove."
      ],
      "metadata": {
        "id": "b6jKbz2ba063"
      }
    },
    {
      "cell_type": "markdown",
      "source": [
        "**Add the following values to the end of tuple(22,31,45,67,89) (Does it work?)**\n"
      ],
      "metadata": {
        "id": "pU7oBpzB8WV6"
      }
    },
    {
      "cell_type": "markdown",
      "source": [
        "dosen't  work"
      ],
      "metadata": {
        "id": "K-3Psn-e8eES"
      }
    },
    {
      "cell_type": "markdown",
      "source": [
        "***Delete the last element and print the square of it (Does it work?)***"
      ],
      "metadata": {
        "id": "Gv-ugP8R8lrQ"
      }
    },
    {
      "cell_type": "code",
      "source": [
        "# Original tuple\n",
        "original_tuple = (22, 31, 45, 67, 89)\n",
        "print(\"Original tuple:\", original_tuple)\n",
        "\n",
        "# Delete the last element of the tuple\n",
        "last_element = original_tuple[-1]\n",
        "new_tuple = original_tuple[:-1]\n",
        "print(\"Deleted element:\", last_element)\n",
        "print(\"New tuple after deleting last element:\", new_tuple)\n",
        "\n",
        "# Calculate square of the deleted element\n",
        "square_of_deleted_element = last_element ** 2\n",
        "print(\"Square of deleted element:\", square_of_deleted_element)\n"
      ],
      "metadata": {
        "colab": {
          "base_uri": "https://localhost:8080/"
        },
        "id": "hpbaIgPi9MtH",
        "outputId": "1f1b4012-c77b-460e-e792-97dbc4d10d5b"
      },
      "execution_count": 1,
      "outputs": [
        {
          "output_type": "stream",
          "name": "stdout",
          "text": [
            "Original tuple: (22, 31, 45, 67, 89)\n",
            "Deleted element: 89\n",
            "New tuple after deleting last element: (22, 31, 45, 67)\n",
            "Square of deleted element: 7921\n"
          ]
        }
      ]
    },
    {
      "cell_type": "markdown",
      "source": [
        "**print the last 4th vlaue**"
      ],
      "metadata": {
        "id": "KJZgz2LUM1me"
      }
    },
    {
      "cell_type": "code",
      "source": [
        "\n",
        "numbers = [1, 2, 3, 4, 5, 6, 7, 8, 9, 10]\n",
        "fourth_last_value = numbers[-4]\n",
        "\n",
        "print(\"The 4th last value is:\", fourth_last_value)\n"
      ],
      "metadata": {
        "colab": {
          "base_uri": "https://localhost:8080/"
        },
        "id": "jYs8hgsNM7Nn",
        "outputId": "a4ee4762-acee-4a06-b2b8-5203fd859a55"
      },
      "execution_count": 2,
      "outputs": [
        {
          "output_type": "stream",
          "name": "stdout",
          "text": [
            "The 4th last value is: 7\n"
          ]
        }
      ]
    },
    {
      "cell_type": "markdown",
      "source": [
        "**Print the values in between 3rd and 6th position**"
      ],
      "metadata": {
        "id": "rt_J2ok5NV93"
      }
    },
    {
      "cell_type": "code",
      "source": [
        "numbers = [1, 2, 3, 4, 5, 6, 7, 8, 9, 10]\n",
        "numbers_in_between=numbers[2:6]\n",
        "print(numbers_in_between)"
      ],
      "metadata": {
        "colab": {
          "base_uri": "https://localhost:8080/"
        },
        "id": "9U6mB7KeNkJa",
        "outputId": "cd109086-5b98-420e-fcb8-15de23871f7b"
      },
      "execution_count": 3,
      "outputs": [
        {
          "output_type": "stream",
          "name": "stdout",
          "text": [
            "[3, 4, 5, 6]\n"
          ]
        }
      ]
    }
  ]
}