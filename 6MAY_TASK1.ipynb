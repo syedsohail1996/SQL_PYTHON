{
  "nbformat": 4,
  "nbformat_minor": 0,
  "metadata": {
    "colab": {
      "provenance": []
    },
    "kernelspec": {
      "name": "python3",
      "display_name": "Python 3"
    },
    "language_info": {
      "name": "python"
    }
  },
  "cells": [
    {
      "cell_type": "code",
      "execution_count": 9,
      "metadata": {
        "colab": {
          "base_uri": "https://localhost:8080/"
        },
        "id": "QPFqfxA5dp6X",
        "outputId": "cfc8f7c6-172e-4843-bb58-bf4eef0a9bb1"
      },
      "outputs": [
        {
          "output_type": "stream",
          "name": "stdout",
          "text": [
            "30\n"
          ]
        }
      ],
      "source": [
        "def sum_of_evens(numbers):\n",
        "  def sum_even_numbers(numbers):\n",
        "    even_sum = 0\n",
        "    for num in numbers:\n",
        "      if num%2 ==0:\n",
        "        even_sum += num\n",
        "      else:\n",
        "        pass\n",
        "      return even_sum\n",
        "\n",
        "\n",
        "# main code\n",
        "numbers = [1, 2, 3, 4, 5, 6, 7, 8, 9, 10]\n",
        "\n",
        "even_sum = sum_even_numbers(numbers)\n",
        "print(even_sum)\n",
        "  "
      ]
    }
  ]
}