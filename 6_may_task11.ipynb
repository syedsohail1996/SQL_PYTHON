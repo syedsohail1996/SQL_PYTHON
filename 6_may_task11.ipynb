{
  "nbformat": 4,
  "nbformat_minor": 0,
  "metadata": {
    "colab": {
      "provenance": []
    },
    "kernelspec": {
      "name": "python3",
      "display_name": "Python 3"
    },
    "language_info": {
      "name": "python"
    }
  },
  "cells": [
    {
      "cell_type": "markdown",
      "source": [
        "Create two lists with four elements and add them not concatenate them.\n",
        "a = [1, 2, 3, 4]\n",
        "b = [10, 11, 12, 13]"
      ],
      "metadata": {
        "id": "LBYK6TfW1Btr"
      }
    },
    {
      "cell_type": "code",
      "execution_count": 3,
      "metadata": {
        "colab": {
          "base_uri": "https://localhost:8080/"
        },
        "id": "3pYCwemJkdWG",
        "outputId": "8f30b2d3-e0d6-4815-c492-d584071b9876"
      },
      "outputs": [
        {
          "output_type": "stream",
          "name": "stdout",
          "text": [
            "[11, 13, 15, 17]\n"
          ]
        }
      ],
      "source": [
        "a = [1, 2, 3, 4]\n",
        "b = [10, 11, 12, 13]\n",
        "\n",
        "result = []\n",
        "for i in range(len(a)):\n",
        "    result.append(a[i] + b[i])\n",
        "\n",
        "print(result)\n"
      ]
    }
  ]
}