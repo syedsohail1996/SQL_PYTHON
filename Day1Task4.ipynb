{
  "nbformat": 4,
  "nbformat_minor": 0,
  "metadata": {
    "colab": {
      "provenance": []
    },
    "kernelspec": {
      "name": "python3",
      "display_name": "Python 3"
    },
    "language_info": {
      "name": "python"
    }
  },
  "cells": [
    {
      "cell_type": "code",
      "execution_count": 3,
      "metadata": {
        "colab": {
          "base_uri": "https://localhost:8080/"
        },
        "id": "myWgE4jcVtI_",
        "outputId": "98a6595d-505c-4b1a-bf02-d2c9f32484e3"
      },
      "outputs": [
        {
          "output_type": "stream",
          "name": "stdout",
          "text": [
            "Enter a hobby (or 'STOP' to finish): eating\n",
            "Enter a hobby (or 'STOP' to finish): badminton \n",
            "Enter a hobby (or 'STOP' to finish): stop\n",
            "Enter a daily activity (or 'STOP' to finish): masjid \n",
            "Enter a daily activity (or 'STOP' to finish): cricket\n",
            "Enter a daily activity (or 'STOP' to finish): stop\n",
            "Activities to try as addons for work: {'badminton ', 'eating'}\n",
            "Activities that match with your hobbies: set()\n"
          ]
        }
      ],
      "source": [
        "# Create an empty set to store user's hobbies\n",
        "hobbies = set()\n",
        "\n",
        "# Take input from the user for hobbies until they enter 'STOP'\n",
        "while True:\n",
        "    hobby = input(\"Enter a hobby (or 'STOP' to finish): \")\n",
        "    if hobby.lower() == 'stop':\n",
        "        break\n",
        "    hobbies.add(hobby)\n",
        "\n",
        "# Create an empty set to store user's daily activities\n",
        "activities = set()\n",
        "\n",
        "# Take input from the user for daily activities until they enter 'STOP'\n",
        "while True:\n",
        "    activity = input(\"Enter a daily activity (or 'STOP' to finish): \")\n",
        "    if activity.lower() == 'stop':\n",
        "        break\n",
        "    activities.add(activity)\n",
        "\n",
        "# Suggest activities to try as addons for work\n",
        "try_to_do = hobbies - activities\n",
        "\n",
        "# Activities that match with hobbies\n",
        "you_enjoy = hobbies.intersection(activities)\n",
        "\n",
        "# Print the suggested activities and matching activities\n",
        "print(\"Activities to try as addons for work:\", try_to_do)\n",
        "print(\"Activities that match with your hobbies:\", you_enjoy)\n"
      ]
    }
  ]
}